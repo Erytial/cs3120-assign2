{
  "cells": [
    {
      "cell_type": "markdown",
      "metadata": {
        "id": "tuHotZvNohIC"
      },
      "source": [
        "# Assign 2: Linear Regression Lab\n",
        "\n",
        "In this first lab you will fit a linear regression model. You will also dig deeper by 'training' a linear regression model manually in a few different ways.\n",
        "\n",
        "You might be wondering, \"*why all the excitement about linear regression?*\"  It so happens that regression is one of the workhorses of machine learning, and it also underlies other more complex types of models.  The advantage of regression models is that they are highly interpretable and very stable when it comes to training/fitting. In fact, linear regression models, particularly multiple linear regression with many input predictors, can mimic a lot of the power of more complex models, such as neural networks, while maintaining their computational stability and interpretability. There is a long running joke/meme about companies that claim to use \"machine learning\" actually use linear regression (and logistic regression, which we'll soon see more of). This isn't entirely a joke though since even if a company is using very powerful/complex types of models (e.g. deep neural networks), they will almost always have already tried using a linear regression model because it would be the cheaper and faster solution.  In other words, linear regression is almost always the default modeling approach, and is sometimes hard to beat!\n",
        "\n",
        "*Note that this notebook uses some content from a [course at NYU](https://cims.nyu.edu/~brenden/courses/labincp/labs/LabReg-IntroToRegression.html), which itself borrowed content from [General Assembly's Data Science](https://github.com/justmarkham/DAT4) course, which claims to have adapted materials one of the most authoratative texts on the subject, [An Introduction to Statistical Learning](http://www-bcf.usc.edu/~gareth/ISL/).*\n",
        "\n",
        "\n",
        "Next, we would typically load the Python libraries/modules that we'll use. However, these have been commented because we will load each module individually just before we use it, so that we can start to understand which modules does what."
      ]
    },
    {
      "cell_type": "code",
      "execution_count": null,
      "metadata": {
        "id": "30MyIKkbohID"
      },
      "outputs": [],
      "source": [
        "#from IPython.core.display import HTML, Markdown #, display\n",
        "#from sklearn import linear_model\n",
        "#import numpy.random as npr\n",
        "#import numpy as np\n",
        "#import pandas as pd\n",
        "#import seaborn as sns\n",
        "#import matplotlib.pyplot as plt\n",
        "#import scipy.stats as stats\n",
        "#import statsmodels.formula.api as smf\n",
        "#import ipywidgets as widgets"
      ]
    },
    {
      "cell_type": "markdown",
      "metadata": {
        "id": "FEA08a1gohIE"
      },
      "source": [
        "We are going to use the [statsmodels](https://www.statsmodels.org/stable/index.html) python package to fit our regression model because it has a lot of nice outputs which are helpful for interpreting regressions.  However, you could do almost all of the same using the [scikit-learn](https://scikit-learn.org/stable/) package, which is a more general package for machine learning than can perform various types of sophisticated regression, classification, clustering, and dimensionality reduction steps."
      ]
    },
    {
      "cell_type": "markdown",
      "metadata": {
        "id": "7G6k5__PohIE"
      },
      "source": [
        "## Loading the dataset\n",
        "\n",
        "Before training/fitting any model we need data. Below we will load a dataset from the text, [Learning Statistics with R](https://kpu.pressbooks.pub/learningstatistics/). The dataset will help us to explore the factors that lead to a parent being grumpy after having a baby.\n",
        "\n",
        "The data is located in a public github repository but loading will be no different than if it were a local file in our computer. We simply use the link to the file and open it with the [pandas](https://pandas.pydata.org) Python module `read_csv` command.\n",
        "\n",
        "Also, let's look at the first few rows of data. Note that one row can be thought of as one *observation*."
      ]
    },
    {
      "cell_type": "code",
      "execution_count": 1,
      "metadata": {
        "colab": {
          "base_uri": "https://localhost:8080/",
          "height": 206
        },
        "id": "MUvxgtSSohIE",
        "outputId": "79baad02-be70-4164-8f43-844769951d06"
      },
      "outputs": [
        {
          "output_type": "execute_result",
          "data": {
            "text/plain": [
              "   day  parent_sleep  baby_sleep  parent_grumpy\n",
              "0    1          7.59       10.18             56\n",
              "1    2          7.91       11.66             60\n",
              "2    3          5.14        7.92             82\n",
              "3    4          7.71        9.61             55\n",
              "4    5          6.68        9.75             67"
            ],
            "text/html": [
              "\n",
              "  <div id=\"df-bc69df4f-aba7-4ede-b391-44b8d789d8e4\" class=\"colab-df-container\">\n",
              "    <div>\n",
              "<style scoped>\n",
              "    .dataframe tbody tr th:only-of-type {\n",
              "        vertical-align: middle;\n",
              "    }\n",
              "\n",
              "    .dataframe tbody tr th {\n",
              "        vertical-align: top;\n",
              "    }\n",
              "\n",
              "    .dataframe thead th {\n",
              "        text-align: right;\n",
              "    }\n",
              "</style>\n",
              "<table border=\"1\" class=\"dataframe\">\n",
              "  <thead>\n",
              "    <tr style=\"text-align: right;\">\n",
              "      <th></th>\n",
              "      <th>day</th>\n",
              "      <th>parent_sleep</th>\n",
              "      <th>baby_sleep</th>\n",
              "      <th>parent_grumpy</th>\n",
              "    </tr>\n",
              "  </thead>\n",
              "  <tbody>\n",
              "    <tr>\n",
              "      <th>0</th>\n",
              "      <td>1</td>\n",
              "      <td>7.59</td>\n",
              "      <td>10.18</td>\n",
              "      <td>56</td>\n",
              "    </tr>\n",
              "    <tr>\n",
              "      <th>1</th>\n",
              "      <td>2</td>\n",
              "      <td>7.91</td>\n",
              "      <td>11.66</td>\n",
              "      <td>60</td>\n",
              "    </tr>\n",
              "    <tr>\n",
              "      <th>2</th>\n",
              "      <td>3</td>\n",
              "      <td>5.14</td>\n",
              "      <td>7.92</td>\n",
              "      <td>82</td>\n",
              "    </tr>\n",
              "    <tr>\n",
              "      <th>3</th>\n",
              "      <td>4</td>\n",
              "      <td>7.71</td>\n",
              "      <td>9.61</td>\n",
              "      <td>55</td>\n",
              "    </tr>\n",
              "    <tr>\n",
              "      <th>4</th>\n",
              "      <td>5</td>\n",
              "      <td>6.68</td>\n",
              "      <td>9.75</td>\n",
              "      <td>67</td>\n",
              "    </tr>\n",
              "  </tbody>\n",
              "</table>\n",
              "</div>\n",
              "    <div class=\"colab-df-buttons\">\n",
              "\n",
              "  <div class=\"colab-df-container\">\n",
              "    <button class=\"colab-df-convert\" onclick=\"convertToInteractive('df-bc69df4f-aba7-4ede-b391-44b8d789d8e4')\"\n",
              "            title=\"Convert this dataframe to an interactive table.\"\n",
              "            style=\"display:none;\">\n",
              "\n",
              "  <svg xmlns=\"http://www.w3.org/2000/svg\" height=\"24px\" viewBox=\"0 -960 960 960\">\n",
              "    <path d=\"M120-120v-720h720v720H120Zm60-500h600v-160H180v160Zm220 220h160v-160H400v160Zm0 220h160v-160H400v160ZM180-400h160v-160H180v160Zm440 0h160v-160H620v160ZM180-180h160v-160H180v160Zm440 0h160v-160H620v160Z\"/>\n",
              "  </svg>\n",
              "    </button>\n",
              "\n",
              "  <style>\n",
              "    .colab-df-container {\n",
              "      display:flex;\n",
              "      gap: 12px;\n",
              "    }\n",
              "\n",
              "    .colab-df-convert {\n",
              "      background-color: #E8F0FE;\n",
              "      border: none;\n",
              "      border-radius: 50%;\n",
              "      cursor: pointer;\n",
              "      display: none;\n",
              "      fill: #1967D2;\n",
              "      height: 32px;\n",
              "      padding: 0 0 0 0;\n",
              "      width: 32px;\n",
              "    }\n",
              "\n",
              "    .colab-df-convert:hover {\n",
              "      background-color: #E2EBFA;\n",
              "      box-shadow: 0px 1px 2px rgba(60, 64, 67, 0.3), 0px 1px 3px 1px rgba(60, 64, 67, 0.15);\n",
              "      fill: #174EA6;\n",
              "    }\n",
              "\n",
              "    .colab-df-buttons div {\n",
              "      margin-bottom: 4px;\n",
              "    }\n",
              "\n",
              "    [theme=dark] .colab-df-convert {\n",
              "      background-color: #3B4455;\n",
              "      fill: #D2E3FC;\n",
              "    }\n",
              "\n",
              "    [theme=dark] .colab-df-convert:hover {\n",
              "      background-color: #434B5C;\n",
              "      box-shadow: 0px 1px 3px 1px rgba(0, 0, 0, 0.15);\n",
              "      filter: drop-shadow(0px 1px 2px rgba(0, 0, 0, 0.3));\n",
              "      fill: #FFFFFF;\n",
              "    }\n",
              "  </style>\n",
              "\n",
              "    <script>\n",
              "      const buttonEl =\n",
              "        document.querySelector('#df-bc69df4f-aba7-4ede-b391-44b8d789d8e4 button.colab-df-convert');\n",
              "      buttonEl.style.display =\n",
              "        google.colab.kernel.accessAllowed ? 'block' : 'none';\n",
              "\n",
              "      async function convertToInteractive(key) {\n",
              "        const element = document.querySelector('#df-bc69df4f-aba7-4ede-b391-44b8d789d8e4');\n",
              "        const dataTable =\n",
              "          await google.colab.kernel.invokeFunction('convertToInteractive',\n",
              "                                                    [key], {});\n",
              "        if (!dataTable) return;\n",
              "\n",
              "        const docLinkHtml = 'Like what you see? Visit the ' +\n",
              "          '<a target=\"_blank\" href=https://colab.research.google.com/notebooks/data_table.ipynb>data table notebook</a>'\n",
              "          + ' to learn more about interactive tables.';\n",
              "        element.innerHTML = '';\n",
              "        dataTable['output_type'] = 'display_data';\n",
              "        await google.colab.output.renderOutput(dataTable, element);\n",
              "        const docLink = document.createElement('div');\n",
              "        docLink.innerHTML = docLinkHtml;\n",
              "        element.appendChild(docLink);\n",
              "      }\n",
              "    </script>\n",
              "  </div>\n",
              "\n",
              "\n",
              "    <div id=\"df-0eccc5a4-bc15-4c6e-b48a-563f4847824f\">\n",
              "      <button class=\"colab-df-quickchart\" onclick=\"quickchart('df-0eccc5a4-bc15-4c6e-b48a-563f4847824f')\"\n",
              "                title=\"Suggest charts\"\n",
              "                style=\"display:none;\">\n",
              "\n",
              "<svg xmlns=\"http://www.w3.org/2000/svg\" height=\"24px\"viewBox=\"0 0 24 24\"\n",
              "     width=\"24px\">\n",
              "    <g>\n",
              "        <path d=\"M19 3H5c-1.1 0-2 .9-2 2v14c0 1.1.9 2 2 2h14c1.1 0 2-.9 2-2V5c0-1.1-.9-2-2-2zM9 17H7v-7h2v7zm4 0h-2V7h2v10zm4 0h-2v-4h2v4z\"/>\n",
              "    </g>\n",
              "</svg>\n",
              "      </button>\n",
              "\n",
              "<style>\n",
              "  .colab-df-quickchart {\n",
              "      --bg-color: #E8F0FE;\n",
              "      --fill-color: #1967D2;\n",
              "      --hover-bg-color: #E2EBFA;\n",
              "      --hover-fill-color: #174EA6;\n",
              "      --disabled-fill-color: #AAA;\n",
              "      --disabled-bg-color: #DDD;\n",
              "  }\n",
              "\n",
              "  [theme=dark] .colab-df-quickchart {\n",
              "      --bg-color: #3B4455;\n",
              "      --fill-color: #D2E3FC;\n",
              "      --hover-bg-color: #434B5C;\n",
              "      --hover-fill-color: #FFFFFF;\n",
              "      --disabled-bg-color: #3B4455;\n",
              "      --disabled-fill-color: #666;\n",
              "  }\n",
              "\n",
              "  .colab-df-quickchart {\n",
              "    background-color: var(--bg-color);\n",
              "    border: none;\n",
              "    border-radius: 50%;\n",
              "    cursor: pointer;\n",
              "    display: none;\n",
              "    fill: var(--fill-color);\n",
              "    height: 32px;\n",
              "    padding: 0;\n",
              "    width: 32px;\n",
              "  }\n",
              "\n",
              "  .colab-df-quickchart:hover {\n",
              "    background-color: var(--hover-bg-color);\n",
              "    box-shadow: 0 1px 2px rgba(60, 64, 67, 0.3), 0 1px 3px 1px rgba(60, 64, 67, 0.15);\n",
              "    fill: var(--button-hover-fill-color);\n",
              "  }\n",
              "\n",
              "  .colab-df-quickchart-complete:disabled,\n",
              "  .colab-df-quickchart-complete:disabled:hover {\n",
              "    background-color: var(--disabled-bg-color);\n",
              "    fill: var(--disabled-fill-color);\n",
              "    box-shadow: none;\n",
              "  }\n",
              "\n",
              "  .colab-df-spinner {\n",
              "    border: 2px solid var(--fill-color);\n",
              "    border-color: transparent;\n",
              "    border-bottom-color: var(--fill-color);\n",
              "    animation:\n",
              "      spin 1s steps(1) infinite;\n",
              "  }\n",
              "\n",
              "  @keyframes spin {\n",
              "    0% {\n",
              "      border-color: transparent;\n",
              "      border-bottom-color: var(--fill-color);\n",
              "      border-left-color: var(--fill-color);\n",
              "    }\n",
              "    20% {\n",
              "      border-color: transparent;\n",
              "      border-left-color: var(--fill-color);\n",
              "      border-top-color: var(--fill-color);\n",
              "    }\n",
              "    30% {\n",
              "      border-color: transparent;\n",
              "      border-left-color: var(--fill-color);\n",
              "      border-top-color: var(--fill-color);\n",
              "      border-right-color: var(--fill-color);\n",
              "    }\n",
              "    40% {\n",
              "      border-color: transparent;\n",
              "      border-right-color: var(--fill-color);\n",
              "      border-top-color: var(--fill-color);\n",
              "    }\n",
              "    60% {\n",
              "      border-color: transparent;\n",
              "      border-right-color: var(--fill-color);\n",
              "    }\n",
              "    80% {\n",
              "      border-color: transparent;\n",
              "      border-right-color: var(--fill-color);\n",
              "      border-bottom-color: var(--fill-color);\n",
              "    }\n",
              "    90% {\n",
              "      border-color: transparent;\n",
              "      border-bottom-color: var(--fill-color);\n",
              "    }\n",
              "  }\n",
              "</style>\n",
              "\n",
              "      <script>\n",
              "        async function quickchart(key) {\n",
              "          const quickchartButtonEl =\n",
              "            document.querySelector('#' + key + ' button');\n",
              "          quickchartButtonEl.disabled = true;  // To prevent multiple clicks.\n",
              "          quickchartButtonEl.classList.add('colab-df-spinner');\n",
              "          try {\n",
              "            const charts = await google.colab.kernel.invokeFunction(\n",
              "                'suggestCharts', [key], {});\n",
              "          } catch (error) {\n",
              "            console.error('Error during call to suggestCharts:', error);\n",
              "          }\n",
              "          quickchartButtonEl.classList.remove('colab-df-spinner');\n",
              "          quickchartButtonEl.classList.add('colab-df-quickchart-complete');\n",
              "        }\n",
              "        (() => {\n",
              "          let quickchartButtonEl =\n",
              "            document.querySelector('#df-0eccc5a4-bc15-4c6e-b48a-563f4847824f button');\n",
              "          quickchartButtonEl.style.display =\n",
              "            google.colab.kernel.accessAllowed ? 'block' : 'none';\n",
              "        })();\n",
              "      </script>\n",
              "    </div>\n",
              "\n",
              "    </div>\n",
              "  </div>\n"
            ],
            "application/vnd.google.colaboratory.intrinsic+json": {
              "type": "dataframe",
              "variable_name": "df",
              "summary": "{\n  \"name\": \"df\",\n  \"rows\": 100,\n  \"fields\": [\n    {\n      \"column\": \"day\",\n      \"properties\": {\n        \"dtype\": \"number\",\n        \"std\": 29,\n        \"min\": 1,\n        \"max\": 100,\n        \"num_unique_values\": 100,\n        \"samples\": [\n          84,\n          54,\n          71\n        ],\n        \"semantic_type\": \"\",\n        \"description\": \"\"\n      }\n    },\n    {\n      \"column\": \"parent_sleep\",\n      \"properties\": {\n        \"dtype\": \"number\",\n        \"std\": 1.0158844283269488,\n        \"min\": 4.84,\n        \"max\": 9.0,\n        \"num_unique_values\": 90,\n        \"samples\": [\n          7.47,\n          6.86,\n          6.22\n        ],\n        \"semantic_type\": \"\",\n        \"description\": \"\"\n      }\n    },\n    {\n      \"column\": \"baby_sleep\",\n      \"properties\": {\n        \"dtype\": \"number\",\n        \"std\": 2.0742318427248527,\n        \"min\": 3.25,\n        \"max\": 12.07,\n        \"num_unique_values\": 88,\n        \"samples\": [\n          9.09,\n          10.18,\n          7.95\n        ],\n        \"semantic_type\": \"\",\n        \"description\": \"\"\n      }\n    },\n    {\n      \"column\": \"parent_grumpy\",\n      \"properties\": {\n        \"dtype\": \"number\",\n        \"std\": 10,\n        \"min\": 41,\n        \"max\": 91,\n        \"num_unique_values\": 37,\n        \"samples\": [\n          59,\n          52,\n          67\n        ],\n        \"semantic_type\": \"\",\n        \"description\": \"\"\n      }\n    }\n  ]\n}"
            }
          },
          "metadata": {},
          "execution_count": 1
        }
      ],
      "source": [
        "import pandas as pd\n",
        "\n",
        "df = pd.read_csv('https://raw.githubusercontent.com/sgeinitz/CS3120/main/lab1_data_parenthood.csv')\n",
        "df.head()"
      ]
    },
    {
      "cell_type": "markdown",
      "metadata": {
        "id": "ejQFDhwVohIE"
      },
      "source": [
        "For this dataset one observation consists of the following fields or columns:\n",
        "\n",
        "* `day` - the day of the baby's life and the day that the observation was made  \n",
        "* `parent_sleep` - number of hours of sleep the parent had the night before this day\n",
        "* `baby_sleep` - number of hours of sleep the baby had the night before this day\n",
        "* `parent_grumpy` - level of grumpiness of the parent on this day (this will be our `Y`, or what we will want to try to predict)\n",
        "\n",
        "To confirm that information, or if we didnt' know it ahead of time, we could use the pandas dataframe method, `describe`, to see some descriptive statistics for each column."
      ]
    },
    {
      "cell_type": "code",
      "execution_count": 2,
      "metadata": {
        "colab": {
          "base_uri": "https://localhost:8080/",
          "height": 300
        },
        "id": "w3pRCguTohIE",
        "outputId": "51e7be1b-c2e5-42d0-c0e0-bfe8d71ca985"
      },
      "outputs": [
        {
          "output_type": "execute_result",
          "data": {
            "text/plain": [
              "              day  parent_sleep  baby_sleep  parent_grumpy\n",
              "count  100.000000    100.000000  100.000000      100.00000\n",
              "mean    50.500000      6.965200    8.049200       63.71000\n",
              "std     29.011492      1.015884    2.074232       10.04967\n",
              "min      1.000000      4.840000    3.250000       41.00000\n",
              "25%     25.750000      6.292500    6.425000       57.00000\n",
              "50%     50.500000      7.030000    7.950000       62.00000\n",
              "75%     75.250000      7.740000    9.635000       71.00000\n",
              "max    100.000000      9.000000   12.070000       91.00000"
            ],
            "text/html": [
              "\n",
              "  <div id=\"df-5fc942e9-a9b7-4565-8840-699978de9b7d\" class=\"colab-df-container\">\n",
              "    <div>\n",
              "<style scoped>\n",
              "    .dataframe tbody tr th:only-of-type {\n",
              "        vertical-align: middle;\n",
              "    }\n",
              "\n",
              "    .dataframe tbody tr th {\n",
              "        vertical-align: top;\n",
              "    }\n",
              "\n",
              "    .dataframe thead th {\n",
              "        text-align: right;\n",
              "    }\n",
              "</style>\n",
              "<table border=\"1\" class=\"dataframe\">\n",
              "  <thead>\n",
              "    <tr style=\"text-align: right;\">\n",
              "      <th></th>\n",
              "      <th>day</th>\n",
              "      <th>parent_sleep</th>\n",
              "      <th>baby_sleep</th>\n",
              "      <th>parent_grumpy</th>\n",
              "    </tr>\n",
              "  </thead>\n",
              "  <tbody>\n",
              "    <tr>\n",
              "      <th>count</th>\n",
              "      <td>100.000000</td>\n",
              "      <td>100.000000</td>\n",
              "      <td>100.000000</td>\n",
              "      <td>100.00000</td>\n",
              "    </tr>\n",
              "    <tr>\n",
              "      <th>mean</th>\n",
              "      <td>50.500000</td>\n",
              "      <td>6.965200</td>\n",
              "      <td>8.049200</td>\n",
              "      <td>63.71000</td>\n",
              "    </tr>\n",
              "    <tr>\n",
              "      <th>std</th>\n",
              "      <td>29.011492</td>\n",
              "      <td>1.015884</td>\n",
              "      <td>2.074232</td>\n",
              "      <td>10.04967</td>\n",
              "    </tr>\n",
              "    <tr>\n",
              "      <th>min</th>\n",
              "      <td>1.000000</td>\n",
              "      <td>4.840000</td>\n",
              "      <td>3.250000</td>\n",
              "      <td>41.00000</td>\n",
              "    </tr>\n",
              "    <tr>\n",
              "      <th>25%</th>\n",
              "      <td>25.750000</td>\n",
              "      <td>6.292500</td>\n",
              "      <td>6.425000</td>\n",
              "      <td>57.00000</td>\n",
              "    </tr>\n",
              "    <tr>\n",
              "      <th>50%</th>\n",
              "      <td>50.500000</td>\n",
              "      <td>7.030000</td>\n",
              "      <td>7.950000</td>\n",
              "      <td>62.00000</td>\n",
              "    </tr>\n",
              "    <tr>\n",
              "      <th>75%</th>\n",
              "      <td>75.250000</td>\n",
              "      <td>7.740000</td>\n",
              "      <td>9.635000</td>\n",
              "      <td>71.00000</td>\n",
              "    </tr>\n",
              "    <tr>\n",
              "      <th>max</th>\n",
              "      <td>100.000000</td>\n",
              "      <td>9.000000</td>\n",
              "      <td>12.070000</td>\n",
              "      <td>91.00000</td>\n",
              "    </tr>\n",
              "  </tbody>\n",
              "</table>\n",
              "</div>\n",
              "    <div class=\"colab-df-buttons\">\n",
              "\n",
              "  <div class=\"colab-df-container\">\n",
              "    <button class=\"colab-df-convert\" onclick=\"convertToInteractive('df-5fc942e9-a9b7-4565-8840-699978de9b7d')\"\n",
              "            title=\"Convert this dataframe to an interactive table.\"\n",
              "            style=\"display:none;\">\n",
              "\n",
              "  <svg xmlns=\"http://www.w3.org/2000/svg\" height=\"24px\" viewBox=\"0 -960 960 960\">\n",
              "    <path d=\"M120-120v-720h720v720H120Zm60-500h600v-160H180v160Zm220 220h160v-160H400v160Zm0 220h160v-160H400v160ZM180-400h160v-160H180v160Zm440 0h160v-160H620v160ZM180-180h160v-160H180v160Zm440 0h160v-160H620v160Z\"/>\n",
              "  </svg>\n",
              "    </button>\n",
              "\n",
              "  <style>\n",
              "    .colab-df-container {\n",
              "      display:flex;\n",
              "      gap: 12px;\n",
              "    }\n",
              "\n",
              "    .colab-df-convert {\n",
              "      background-color: #E8F0FE;\n",
              "      border: none;\n",
              "      border-radius: 50%;\n",
              "      cursor: pointer;\n",
              "      display: none;\n",
              "      fill: #1967D2;\n",
              "      height: 32px;\n",
              "      padding: 0 0 0 0;\n",
              "      width: 32px;\n",
              "    }\n",
              "\n",
              "    .colab-df-convert:hover {\n",
              "      background-color: #E2EBFA;\n",
              "      box-shadow: 0px 1px 2px rgba(60, 64, 67, 0.3), 0px 1px 3px 1px rgba(60, 64, 67, 0.15);\n",
              "      fill: #174EA6;\n",
              "    }\n",
              "\n",
              "    .colab-df-buttons div {\n",
              "      margin-bottom: 4px;\n",
              "    }\n",
              "\n",
              "    [theme=dark] .colab-df-convert {\n",
              "      background-color: #3B4455;\n",
              "      fill: #D2E3FC;\n",
              "    }\n",
              "\n",
              "    [theme=dark] .colab-df-convert:hover {\n",
              "      background-color: #434B5C;\n",
              "      box-shadow: 0px 1px 3px 1px rgba(0, 0, 0, 0.15);\n",
              "      filter: drop-shadow(0px 1px 2px rgba(0, 0, 0, 0.3));\n",
              "      fill: #FFFFFF;\n",
              "    }\n",
              "  </style>\n",
              "\n",
              "    <script>\n",
              "      const buttonEl =\n",
              "        document.querySelector('#df-5fc942e9-a9b7-4565-8840-699978de9b7d button.colab-df-convert');\n",
              "      buttonEl.style.display =\n",
              "        google.colab.kernel.accessAllowed ? 'block' : 'none';\n",
              "\n",
              "      async function convertToInteractive(key) {\n",
              "        const element = document.querySelector('#df-5fc942e9-a9b7-4565-8840-699978de9b7d');\n",
              "        const dataTable =\n",
              "          await google.colab.kernel.invokeFunction('convertToInteractive',\n",
              "                                                    [key], {});\n",
              "        if (!dataTable) return;\n",
              "\n",
              "        const docLinkHtml = 'Like what you see? Visit the ' +\n",
              "          '<a target=\"_blank\" href=https://colab.research.google.com/notebooks/data_table.ipynb>data table notebook</a>'\n",
              "          + ' to learn more about interactive tables.';\n",
              "        element.innerHTML = '';\n",
              "        dataTable['output_type'] = 'display_data';\n",
              "        await google.colab.output.renderOutput(dataTable, element);\n",
              "        const docLink = document.createElement('div');\n",
              "        docLink.innerHTML = docLinkHtml;\n",
              "        element.appendChild(docLink);\n",
              "      }\n",
              "    </script>\n",
              "  </div>\n",
              "\n",
              "\n",
              "    <div id=\"df-7b566cf7-8944-4687-8c15-27ae8e4b6224\">\n",
              "      <button class=\"colab-df-quickchart\" onclick=\"quickchart('df-7b566cf7-8944-4687-8c15-27ae8e4b6224')\"\n",
              "                title=\"Suggest charts\"\n",
              "                style=\"display:none;\">\n",
              "\n",
              "<svg xmlns=\"http://www.w3.org/2000/svg\" height=\"24px\"viewBox=\"0 0 24 24\"\n",
              "     width=\"24px\">\n",
              "    <g>\n",
              "        <path d=\"M19 3H5c-1.1 0-2 .9-2 2v14c0 1.1.9 2 2 2h14c1.1 0 2-.9 2-2V5c0-1.1-.9-2-2-2zM9 17H7v-7h2v7zm4 0h-2V7h2v10zm4 0h-2v-4h2v4z\"/>\n",
              "    </g>\n",
              "</svg>\n",
              "      </button>\n",
              "\n",
              "<style>\n",
              "  .colab-df-quickchart {\n",
              "      --bg-color: #E8F0FE;\n",
              "      --fill-color: #1967D2;\n",
              "      --hover-bg-color: #E2EBFA;\n",
              "      --hover-fill-color: #174EA6;\n",
              "      --disabled-fill-color: #AAA;\n",
              "      --disabled-bg-color: #DDD;\n",
              "  }\n",
              "\n",
              "  [theme=dark] .colab-df-quickchart {\n",
              "      --bg-color: #3B4455;\n",
              "      --fill-color: #D2E3FC;\n",
              "      --hover-bg-color: #434B5C;\n",
              "      --hover-fill-color: #FFFFFF;\n",
              "      --disabled-bg-color: #3B4455;\n",
              "      --disabled-fill-color: #666;\n",
              "  }\n",
              "\n",
              "  .colab-df-quickchart {\n",
              "    background-color: var(--bg-color);\n",
              "    border: none;\n",
              "    border-radius: 50%;\n",
              "    cursor: pointer;\n",
              "    display: none;\n",
              "    fill: var(--fill-color);\n",
              "    height: 32px;\n",
              "    padding: 0;\n",
              "    width: 32px;\n",
              "  }\n",
              "\n",
              "  .colab-df-quickchart:hover {\n",
              "    background-color: var(--hover-bg-color);\n",
              "    box-shadow: 0 1px 2px rgba(60, 64, 67, 0.3), 0 1px 3px 1px rgba(60, 64, 67, 0.15);\n",
              "    fill: var(--button-hover-fill-color);\n",
              "  }\n",
              "\n",
              "  .colab-df-quickchart-complete:disabled,\n",
              "  .colab-df-quickchart-complete:disabled:hover {\n",
              "    background-color: var(--disabled-bg-color);\n",
              "    fill: var(--disabled-fill-color);\n",
              "    box-shadow: none;\n",
              "  }\n",
              "\n",
              "  .colab-df-spinner {\n",
              "    border: 2px solid var(--fill-color);\n",
              "    border-color: transparent;\n",
              "    border-bottom-color: var(--fill-color);\n",
              "    animation:\n",
              "      spin 1s steps(1) infinite;\n",
              "  }\n",
              "\n",
              "  @keyframes spin {\n",
              "    0% {\n",
              "      border-color: transparent;\n",
              "      border-bottom-color: var(--fill-color);\n",
              "      border-left-color: var(--fill-color);\n",
              "    }\n",
              "    20% {\n",
              "      border-color: transparent;\n",
              "      border-left-color: var(--fill-color);\n",
              "      border-top-color: var(--fill-color);\n",
              "    }\n",
              "    30% {\n",
              "      border-color: transparent;\n",
              "      border-left-color: var(--fill-color);\n",
              "      border-top-color: var(--fill-color);\n",
              "      border-right-color: var(--fill-color);\n",
              "    }\n",
              "    40% {\n",
              "      border-color: transparent;\n",
              "      border-right-color: var(--fill-color);\n",
              "      border-top-color: var(--fill-color);\n",
              "    }\n",
              "    60% {\n",
              "      border-color: transparent;\n",
              "      border-right-color: var(--fill-color);\n",
              "    }\n",
              "    80% {\n",
              "      border-color: transparent;\n",
              "      border-right-color: var(--fill-color);\n",
              "      border-bottom-color: var(--fill-color);\n",
              "    }\n",
              "    90% {\n",
              "      border-color: transparent;\n",
              "      border-bottom-color: var(--fill-color);\n",
              "    }\n",
              "  }\n",
              "</style>\n",
              "\n",
              "      <script>\n",
              "        async function quickchart(key) {\n",
              "          const quickchartButtonEl =\n",
              "            document.querySelector('#' + key + ' button');\n",
              "          quickchartButtonEl.disabled = true;  // To prevent multiple clicks.\n",
              "          quickchartButtonEl.classList.add('colab-df-spinner');\n",
              "          try {\n",
              "            const charts = await google.colab.kernel.invokeFunction(\n",
              "                'suggestCharts', [key], {});\n",
              "          } catch (error) {\n",
              "            console.error('Error during call to suggestCharts:', error);\n",
              "          }\n",
              "          quickchartButtonEl.classList.remove('colab-df-spinner');\n",
              "          quickchartButtonEl.classList.add('colab-df-quickchart-complete');\n",
              "        }\n",
              "        (() => {\n",
              "          let quickchartButtonEl =\n",
              "            document.querySelector('#df-7b566cf7-8944-4687-8c15-27ae8e4b6224 button');\n",
              "          quickchartButtonEl.style.display =\n",
              "            google.colab.kernel.accessAllowed ? 'block' : 'none';\n",
              "        })();\n",
              "      </script>\n",
              "    </div>\n",
              "\n",
              "    </div>\n",
              "  </div>\n"
            ],
            "application/vnd.google.colaboratory.intrinsic+json": {
              "type": "dataframe",
              "summary": "{\n  \"name\": \"df\",\n  \"rows\": 8,\n  \"fields\": [\n    {\n      \"column\": \"day\",\n      \"properties\": {\n        \"dtype\": \"number\",\n        \"std\": 35.736237144555226,\n        \"min\": 1.0,\n        \"max\": 100.0,\n        \"num_unique_values\": 6,\n        \"samples\": [\n          100.0,\n          50.5,\n          75.25\n        ],\n        \"semantic_type\": \"\",\n        \"description\": \"\"\n      }\n    },\n    {\n      \"column\": \"parent_sleep\",\n      \"properties\": {\n        \"dtype\": \"number\",\n        \"std\": 33.275754474812146,\n        \"min\": 1.0158844283269488,\n        \"max\": 100.0,\n        \"num_unique_values\": 8,\n        \"samples\": [\n          6.965199999999999,\n          7.03,\n          100.0\n        ],\n        \"semantic_type\": \"\",\n        \"description\": \"\"\n      }\n    },\n    {\n      \"column\": \"baby_sleep\",\n      \"properties\": {\n        \"dtype\": \"number\",\n        \"std\": 33.01647807682308,\n        \"min\": 2.0742318427248527,\n        \"max\": 100.0,\n        \"num_unique_values\": 8,\n        \"samples\": [\n          8.049199999999999,\n          7.95,\n          100.0\n        ],\n        \"semantic_type\": \"\",\n        \"description\": \"\"\n      }\n    },\n    {\n      \"column\": \"parent_grumpy\",\n      \"properties\": {\n        \"dtype\": \"number\",\n        \"std\": 28.116476387973886,\n        \"min\": 10.049669575954157,\n        \"max\": 100.0,\n        \"num_unique_values\": 8,\n        \"samples\": [\n          63.71,\n          62.0,\n          100.0\n        ],\n        \"semantic_type\": \"\",\n        \"description\": \"\"\n      }\n    }\n  ]\n}"
            }
          },
          "metadata": {},
          "execution_count": 2
        }
      ],
      "source": [
        "df.describe()"
      ]
    },
    {
      "cell_type": "markdown",
      "metadata": {
        "id": "vnPMXBIQohIE"
      },
      "source": [
        "***\n",
        "### Q1: What does the column `parent_grumpy` look like? What is it's mean? What is it's minimum value? Maximum value? Based on all of that, what do you think the scale of grumpiness is? Is it between 1 and 10? Between -1 and 1?\n",
        "\n",
        "\\< The parent_grumpy looks like its a scale 1 to  100 representing a percent value im assuming 1 is not grumpy at all and 100 is the parent is in a foul mood. This asumption is on the fact that the min is 41 , max is 91, and mean is 63.71 \\>\n",
        "***"
      ]
    },
    {
      "cell_type": "markdown",
      "metadata": {
        "id": "0zyA5F7KohIE"
      },
      "source": [
        "Next, let's look at if or how the columns are related to one another. There are descriptive statistics that we can calculate to do this but typically it's best to simply look at the data and see what it looks like.\n",
        "\n",
        "We'll use the Python module [seaborn](https://seaborn.pydata.org), which is for plotting and visualizing data."
      ]
    },
    {
      "cell_type": "code",
      "execution_count": 3,
      "metadata": {
        "colab": {
          "base_uri": "https://localhost:8080/",
          "height": 466
        },
        "id": "3zkiJCeEohIE",
        "outputId": "51228e48-b651-49fc-8ee8-3eb674af0d82"
      },
      "outputs": [
        {
          "output_type": "execute_result",
          "data": {
            "text/plain": [
              "<Axes: xlabel='day', ylabel='parent_grumpy'>"
            ]
          },
          "metadata": {},
          "execution_count": 3
        },
        {
          "output_type": "display_data",
          "data": {
            "text/plain": [
              "<Figure size 640x480 with 1 Axes>"
            ],
            "image/png": "[encoded data removed]"
          },
          "metadata": {}
        }
      ],
      "source": [
        "import seaborn as sns\n",
        "\n",
        "sns.scatterplot(data=df, x='day', y='parent_grumpy')"
      ]
    },
    {
      "cell_type": "markdown",
      "metadata": {
        "id": "gLW1bI_gohIE"
      },
      "source": [
        "***\n",
        "### Q2: Does there appear to be a relationship of any kind between day and how grumpy the parent is? In other words, does a parent's level of grumpiness get better or worse in the first 100 days of baby's life? Is there any type of pattern in how these two variables are related?\n",
        "\n",
        "\\<The plot over 100 days aprears to be center around the average of 63.71 I'm assuming it is a relitlive straight horizontal line or leaning slighty downward.\\>\n",
        "***"
      ]
    },
    {
      "cell_type": "markdown",
      "metadata": {
        "id": "uM8l2WtWohIE"
      },
      "source": [
        "Next, let's look at the other fields versus a parent's level of grumpiness. Note that we'll now use the other common Python module for plotting and visualization, matplotlib. This module is lower-level than seaborn which allows us to create multiple plots side by side, and manipulate other small details of plots."
      ]
    },
    {
      "cell_type": "code",
      "execution_count": 4,
      "metadata": {
        "colab": {
          "base_uri": "https://localhost:8080/",
          "height": 388
        },
        "id": "8Cz4PFN9ohIE",
        "outputId": "e7de647f-5f6f-437a-eb34-55e43a931340"
      },
      "outputs": [
        {
          "output_type": "display_data",
          "data": {
            "text/plain": [
              "<Figure size 1000x400 with 2 Axes>"
            ],
            "image/png": "[encoded data removed]"
          },
          "metadata": {}
        }
      ],
      "source": [
        "import matplotlib.pyplot as plt\n",
        "\n",
        "#fig, (ax1, ax2, ax3) = plt.subplots(1, 3, figsize=(12, 4))\n",
        "fig, (ax1, ax2) = plt.subplots(1, 2, figsize=(10, 4))\n",
        "sns.scatterplot(data=df, x='baby_sleep', y='parent_grumpy', ax=ax1)\n",
        "sns.scatterplot(data=df, x='parent_sleep', y='parent_grumpy', ax=ax2, color='red')\n",
        "#sns.scatterplot(data=df, x='baby_sleep', y='parent_sleep', ax=ax3, color='red')\n",
        "plt.show()"
      ]
    },
    {
      "cell_type": "markdown",
      "metadata": {
        "id": "kzh1LWH5ohIF"
      },
      "source": [
        "***\n",
        "### Q3: What is the relationship that seems more important here? In other words, which do you think is a more direct cause of a parent being grumpy?\n",
        "\n",
        "\\<The effect that parent sleep has on parent_grumpy is clear by how tight the points are clusted and visable downward slope, lack of sleep clearly affects mood. That being said baby sleep looks to have some effect as well, it is also showing a downward slope just not as strong.\\>\n",
        "\n",
        "***"
      ]
    },
    {
      "cell_type": "markdown",
      "metadata": {
        "id": "eILPv6GEohIF"
      },
      "source": [
        "## Simple Linear Regression\n",
        "\n",
        "There is a lot more that could be discussed about which variable drives what, in what order, etc. For now though, let's go ahead and begin fitting a linear regression. As we've seen, simple linear regression is an approach for predicting a **quantitative response** using a **single feature** (or \"predictor\" or \"input variable\"). It takes the following form:\n",
        "\n",
        "$y = \\beta_0 + \\beta_1x \\quad $ or $ \\quad y = b + w x$\n",
        "\n",
        "What does each term represent?\n",
        "- $y$ is the response\n",
        "- $x$ is the feature\n",
        "- $\\beta_0$ is the y-intercept of the line, which we could also call the **bias** parameter, $b$\n",
        "- $\\beta_1$ is the slope of the line or coefficient for x, which we could also call the **weight** parameter, $w$\n",
        "\n",
        "Together, $\\beta_0$ and $\\beta_1$, or $b$ and $w$ are called the **model coefficients**, or **parameters** of the model. To train or fit the model it must \"learn\" the values of these parameters. Once we've learned these coefficients, we can use the model to make predictions!"
      ]
    },
    {
      "cell_type": "markdown",
      "metadata": {
        "id": "Thg9H-_lohIF"
      },
      "source": [
        "What do you mean by \"learn\"?  Well you are probably more familiar with the phrase \"fit\" meaning we adjust the settings of the model coefficients (aka as parameters) until the line seems like a good summary of the data.  Fitting thus mean adjusting some internal numbers so that the better reflect the underlying data set.  Well when a human (or machine) learns it, it is in some sense of the same thing.  We change the connections of the weights (or parameters) inside our brains to help us better predict our environment.  For instance if your roommate is prone to late night partying and being grumpy the next day you might mentally fit a model to the experiences you have and \"learn\" what features are predictive of them being grumpy.  So basically fitting a linear regression model is the same as doing basic machine learning! Wow!\n",
        "\n",
        "Before we get into using the computer to \"fit\" our data, let's start simple and do things by hand. Try adjusting the sliders below to get to what you think is a good model fit. As mentioned in class, getting roughly half of the points above the line and half below the line is ideally what we want."
      ]
    },
    {
      "cell_type": "code",
      "execution_count": 5,
      "metadata": {
        "colab": {
          "base_uri": "https://localhost:8080/",
          "height": 606,
          "referenced_widgets": [
            "8cda941299c443898c1914691e43f4a7",
            "57ce9e5415b945e183583d8f3cea1de5",
            "93067a4d6f0846d6b3179d1110fc9a91",
            "3251c33fb80f4bdab979913f89c01b9f",
            "e68aa3d789d54edda9f35a9d55e921d3",
            "2a8bec9df1e945f0b8b9e2ef4b867eeb",
            "d1dbc968e59a4460a8f35df410a01bdd",
            "71ceb52fc6f54134b801bbca12ba99b1",
            "4c203c7d47ac4e208671933139403025",
            "e6229455add44b698771f20776424c4e"
          ]
        },
        "id": "pR16rxzXohIF",
        "outputId": "776103be-8e57-49cb-cdb6-357e60cbfc78"
      },
      "outputs": [
        {
          "output_type": "display_data",
          "data": {
            "text/plain": [
              "interactive(children=(IntSlider(value=0, description='slope', max=20, min=-20), IntSlider(value=50, descriptio…"
            ],
            "application/vnd.jupyter.widget-view+json": {
              "version_major": 2,
              "version_minor": 0,
              "model_id": "8cda941299c443898c1914691e43f4a7"
            }
          },
          "metadata": {}
        }
      ],
      "source": [
        "from IPython.core.display import HTML, Markdown\n",
        "import ipywidgets as widgets\n",
        "import numpy as np\n",
        "\n",
        "@widgets.interact(slope=widgets.IntSlider(min=-20, max=20, step=1, value=0), intercept=widgets.IntSlider(min=0, max=200, step=1, value=50))\n",
        "def plot_grumpiness(slope, intercept):\n",
        "    predict = intercept + slope * df.parent_sleep\n",
        "    resid = df.parent_grumpy - predict\n",
        "    fig, ax = plt.subplots(figsize=(9,6))\n",
        "\n",
        "    x1 = np.linspace(df.parent_sleep.min(), df.parent_sleep.max(), 400)\n",
        "    y1 = intercept + slope * x1\n",
        "\n",
        "    ax.plot(df.parent_sleep, df.parent_grumpy, 'ko', markersize=4)\n",
        "\n",
        "    ax.plot(x1, y1, '-', color='steelblue', linewidth=1)\n",
        "    plt.xlabel(\"dad sleep\")\n",
        "    plt.ylabel(\"dad grumpy level\")\n",
        "\n",
        "    plt.show()\n"
      ]
    },
    {
      "cell_type": "markdown",
      "metadata": {
        "id": "Rzlk_Gs3ohIF"
      },
      "source": [
        "If you used the approach of getting half of the points above the line and half below the line, you probably realized that there are several different ways to acheive this - not all of which make sense. That's why we instead think about fitting a regression model as minimizing all **residuals**. A residual is defined as the difference between the the observation $y$ and the prediction $\\hat{y}$.\n",
        "\n",
        "Specifically, the **residual for the $i^{th}$ observation** in the data is defined as:\n",
        "* $y_i - \\hat{y}_i$\n",
        "\n",
        "The next plot shows what are known as the **residuals** between the actual data points (black) and the regression line (blue). As you can see the total amount of red changes depending on how good of a fit your parameter values give you. Use this widget to make your own *guesstimate* of what the values of $\\beta_0$ and $\\beta_1$ should be.\n"
      ]
    },
    {
      "cell_type": "code",
      "execution_count": 6,
      "metadata": {
        "colab": {
          "base_uri": "https://localhost:8080/",
          "height": 606,
          "referenced_widgets": [
            "5574d117e7394423a7bfb6afc575abec",
            "af70da78a34c420295809f8333f58ae8",
            "b465cd927e454124be0b2fb2f6dc13d2",
            "68ce7145cd2445a887a6295a2fb74b8c",
            "6c357f1d098042d8898856c7cdeace89",
            "d6cb6d67582c42248183f7821f93fabf",
            "ea367dc7efbd47608be55a639099dcbc",
            "c96c92496b094627b06431da16083f88",
            "90a66a0ee2dd4f29b43bc89b3e37e454",
            "7150604ce0f944a5b35970bfe6eb2a57"
          ]
        },
        "id": "3jbdPWaYohIF",
        "outputId": "2bffee6f-50b5-4dd3-bb25-898a90ab91ea"
      },
      "outputs": [
        {
          "output_type": "display_data",
          "data": {
            "text/plain": [
              "interactive(children=(IntSlider(value=0, description='slope', max=20, min=-20), IntSlider(value=50, descriptio…"
            ],
            "application/vnd.jupyter.widget-view+json": {
              "version_major": 2,
              "version_minor": 0,
              "model_id": "5574d117e7394423a7bfb6afc575abec"
            }
          },
          "metadata": {}
        }
      ],
      "source": [
        "@widgets.interact(slope=widgets.IntSlider(min=-20, max=20, step=1, value=0), intercept=widgets.IntSlider(min=0, max=200, step=1, value=50))\n",
        "def plot_grumpiness(slope, intercept):\n",
        "    predict = intercept+slope*df.parent_sleep\n",
        "    resid = df.parent_grumpy-predict\n",
        "    fig, ax = plt.subplots(figsize=(9,6))\n",
        "\n",
        "    x1 = np.linspace(df.parent_sleep.min(), df.parent_sleep.max(),400)\n",
        "    y1 = intercept+slope*x1\n",
        "\n",
        "    ax.plot(df.parent_sleep, df.parent_grumpy,'ko',markersize=4)\n",
        "    ax.plot(df.parent_sleep, df.parent_grumpy-resid,'o',markersize=4,markeredgecolor='r', markeredgewidth=.4, markerfacecolor='white')\n",
        "\n",
        "    ax.plot(x1,y1,'-',color='blue',linewidth=1)\n",
        "    plt.xlabel(\"dad sleep\")\n",
        "    plt.ylabel(\"dad grumpiness\")\n",
        "\n",
        "    ax.vlines(df.parent_sleep, df.parent_grumpy, df.parent_grumpy-resid,'r',linewidth=0.5)\n",
        "    plt.show()\n",
        "\n"
      ]
    },
    {
      "cell_type": "markdown",
      "metadata": {
        "id": "77SI_GkSohIF"
      },
      "source": [
        "***\n",
        "### Q4: What values of $\\beta_0$ and $\\beta_1$ result in a good model fit? Is the slope positive or negative? Explain why?\n",
        "\n",
        "\\<For beta_0 the intercepts some thing in the range of 132 to 134 felt about right. The slope beta_1 was looked to about -10. The graph shows a strong correlation between mood and how much sleep they were able to get.\\>\n",
        "\n",
        "***"
      ]
    },
    {
      "cell_type": "markdown",
      "metadata": {
        "id": "SHbr3qELohIF"
      },
      "source": [
        "## Estimating Model Coefficients (i.e. \"training\" the model)\n",
        "\n",
        "The mechanics of fitting a line to some data, or \"learning\" the model parameter values, or \"training\" the model is better done using a precise method rather than eyeballing it as you did above. Generally speaking, coefficients are estimated using the **least squares criterion**, which means we will find the line (mathematically) which minimizes the **sum of squared residuals** (or \"sum of squared errors\"). This can be summed up in the following graphic.\n",
        "\n",
        "![toyexample](https://cims.nyu.edu/~brenden/courses/labincp/_images/08_estimating_coefficients.png)\n",
        "\n",
        "In the figure above...\n",
        "- the black dots are the **observed values** of x and y,\n",
        "- the blue line is the **least squares line**,\n",
        "- the red lines are the **residuals**, which are the distances between the observed values and the least squares line.\n",
        "\n",
        "Remember, model parameters in the regression model can be interpreted as follows.\n",
        "- $\\beta_0$ is the **intercept** (the value of $y$ when $x$=0)\n",
        "- $\\beta_1$ is the **slope** (the change in $y$ divided by change in $x$)\n",
        "\n",
        "Here is a graphical depiction of those calculations:\n",
        "\n",
        "![toyexample2](https://cims.nyu.edu/~brenden/courses/labincp/_images/08_slope_intercept.png)\n"
      ]
    },
    {
      "cell_type": "markdown",
      "metadata": {
        "id": "UaAicFw7ohIF"
      },
      "source": [
        "To find the best possible parameter values (i.e. to fit or train the model), we want to minimize the sum of squared errors. Note that since $\\hat{y}$ is a function of $\\beta_0$ and $\\beta_1$, then the sum of squared errors can be stated as a function of them (and then minimized). Namely, we want to minimize the following expression with respect to $\\beta_0$ and $\\beta_1$.\n",
        "\n",
        "* $\\sum_{i=1}^{n} (y_i - (\\beta_0 + \\beta_1 x_i))^2$\n",
        "\n",
        "We could manually calculate the values by minimizing the above, but let's first use the [statmodels](https://www.statsmodels.org/stable/install.html) Python package. See how these numbers compare to the values you found in your *guesstimate* above."
      ]
    },
    {
      "cell_type": "code",
      "execution_count": 8,
      "metadata": {
        "colab": {
          "base_uri": "https://localhost:8080/"
        },
        "id": "utAH4HukohIF",
        "outputId": "e8208b33-5955-4ccd-cbc6-d8f78bf361b2"
      },
      "outputs": [
        {
          "output_type": "stream",
          "name": "stdout",
          "text": [
            "Intercept       125.956292\n",
            "parent_sleep     -8.936756\n",
            "dtype: float64\n"
          ]
        }
      ],
      "source": [
        "import statsmodels.formula.api as smf\n",
        "\n",
        "sm_lm = smf.ols(formula='parent_grumpy ~ parent_sleep', data=df).fit()\n",
        "print(sm_lm.params)"
      ]
    },
    {
      "cell_type": "markdown",
      "metadata": {
        "id": "6bnFJk3mohIF"
      },
      "source": [
        "A couple of points on how we used `smf` here...\n",
        "* First is that we use the `smf.ols()` function which does an _ordinary least squares_ fit.  This is the type of fit which tries to minimize the sum of the squared residuals.  There are other types of fitting proceedures such as weighted least squares which is used when you expect the variance of the predicted variable to changes with the input predictor as well as its mean value.  We won't worry about those variations of linear regression in this class though.\n",
        "\n",
        "* Second is that we provide the `ols()` function or method with the pandas dataframe we are working with, `df`, and then provide a formula.  The formula expresses our \"_model_\" and is which variables in the data frame we are trying to relate.  Here the formula `parent_grumpy ~ parent_sleep` means that we want to predict `parent_grumpy` values given `parent_sleep` values. So you think of `parent_grumpy` as our \"_y value_\" and `parent_sleep` are our \"_x value_\".\n",
        "\n",
        "\n",
        "Although the **statsmodels** Python module is a powerful and intuitive tool for statistics, and similar to the standard libraries in R, the module that is more common among Data Scientists and Machine Learning practioners is [scikitlearn](https://scikit-learn.org/stable/). We'll use this now. Try to make a note of how the syntax is different between statsmodels and scikitlearn."
      ]
    },
    {
      "cell_type": "code",
      "execution_count": 9,
      "metadata": {
        "colab": {
          "base_uri": "https://localhost:8080/"
        },
        "id": "M3Ag85lbohIF",
        "outputId": "586e08f7-6ac0-4586-c348-fa44fa6ed18b"
      },
      "outputs": [
        {
          "output_type": "stream",
          "name": "stdout",
          "text": [
            "[-8.93675582] 125.95629163351283\n"
          ]
        }
      ],
      "source": [
        "from sklearn import linear_model\n",
        "\n",
        "lm = linear_model.LinearRegression()\n",
        "lm.fit(df[['parent_sleep']], df['parent_grumpy'])\n",
        "print(lm.coef_, lm.intercept_)"
      ]
    },
    {
      "cell_type": "markdown",
      "metadata": {
        "id": "V_ltsXI9ohIF"
      },
      "source": [
        "It's easy to see that the values of the parameters for both models are the same, but notice the small diffences in the names of usage of them. The **statsmodel** model gives us all of the parameters in attribute `lm.params`.\n",
        "\n",
        "With `scikitlearn`, or `sklearn` above, the model has different attributes for each parameter, `lm.coef_`, `lm.intercept`. Note that `lm.coef` itself is a list though, so if our model was going to have other predictors, i.e. other X variables or inputs, then they would be added to the list, `lm.coef`."
      ]
    },
    {
      "cell_type": "markdown",
      "metadata": {
        "id": "0znUUPCjohIF"
      },
      "source": [
        "## Interpreting the Model\n",
        "\n",
        "One of the biggest advantages of ordinary least squares regression is that it is highly interpretable. By this, we mean to say that it's possible to look at the model parameter values and directly draw some conclusion or interpretion from it.\n",
        "\n",
        "That is, we can directly interpret the `slope` or `weight` parameter associated with `parent_sleep`, according to its value. In this case, with a value of `-8.9`, we can say:\n",
        "\n",
        "- A one \"unit\" increase in hours of sleep is associated with a -8.9367 \"unit\" decrease (because it is negative) in grumpiness. This should kind of make sense once you think about it too, i.e. more sleep = less grumpy!\n",
        "\n",
        "The other parameter in our model, the `intercept` or `bias` term, tells us what the model would predict if `X`, or `parent_sleep` in this case, were zero (0). (You can sort understand why it is referred to a bias term also, since it's the value you would get if you didn't have any information, so it's sort of a presupposed value, or bias.)\n",
        "If `parent_sleep` is zero, then `pare\n",
        "nt_grumpy` would be predicted to be 125.95. This means that if a parent gets no sleep at all their grumpiness will be at a very high level of 125.95!  Bad news."
      ]
    },
    {
      "cell_type": "markdown",
      "metadata": {
        "id": "ZBfRGXgaohIG"
      },
      "source": [
        "***\n",
        "### Q5: Suppose that the _grumpiness_ scale is between 0 and 100. How would you explain or justify the prediction the model would make if a parent did not sleep at all the night before? Or, if they slept only one hour? What does this say about the model, is it a \"good\" or \"bad\" model?\n",
        "\n",
        "\\<The model is good in the scope of our data, values out of the scope of the original data can very easily be nonsensical or inaccurate. The model was originaly fit on data wiht 5-9 hrs of sleep so it will be good to predict mood if the new data is in that range. \\>\n",
        "\n",
        "***\n",
        "\n",
        "Note that this question is related to a famous saying in Statistics, which is \"*All models are wrong, but some are useful*\". This essentially says that every model has limitations, or is incorrect in some way, but can still make sense and yield useful results when used in the appropriate setting.\n",
        "\n",
        "![image](https://miro.medium.com/v2/resize:fit:1400/1*EJZZKiXLcbp_MxRW9HJrmA.jpeg)"
      ]
    },
    {
      "cell_type": "markdown",
      "metadata": {
        "id": "J9SRq_hJohIG"
      },
      "source": [
        "## Using the Model for Prediction\n",
        "\n",
        "Once the model has been fit or trained with the training data, we can now use it for predictions. In other words, with just the following equation it is possible to make a prediction for any new value of `x`, i.e. `parent_sleep`.\n",
        "$$y = 125.956292 + -8.936756 \\times x$$"
      ]
    },
    {
      "cell_type": "markdown",
      "metadata": {
        "id": "xkk3FgKmohIG"
      },
      "source": [
        "***\n",
        "\n",
        "### Q5: Using only the trained model the parent now wants to make a prediction for tomorrow. Everything is going smooth so they antipicate getting a good night of sleep, or around `8.5` hours of sleep. What will their predicted level of grumpiness be tomorrow?\n",
        "\n",
        "\\<with 8.5 hrs of sleep they can expect to have a mood score of 49.994, so an average day if the scale is 1-100.\\>\n",
        "\n",
        "***"
      ]
    },
    {
      "cell_type": "code",
      "execution_count": 10,
      "metadata": {
        "colab": {
          "base_uri": "https://localhost:8080/"
        },
        "id": "aHwoJM4MohIG",
        "outputId": "85876009-7870-44a3-b630-fbd3097c7192"
      },
      "outputs": [
        {
          "output_type": "execute_result",
          "data": {
            "text/plain": [
              "array([49.99386717])"
            ]
          },
          "metadata": {},
          "execution_count": 10
        }
      ],
      "source": [
        "hours_of_sleep = 8.5\n",
        "X_new = pd.DataFrame({'parent_sleep': [hours_of_sleep]})\n",
        "lm.predict(X_new)"
      ]
    },
    {
      "cell_type": "markdown",
      "metadata": {
        "id": "qn18hRejohIG"
      },
      "source": [
        "## Plotting the least squares regression line\n",
        "\n",
        "Let's take a look at the best fit line.  There are two very easy ways to do this.  One is using seaborn's regplot which takes care of all of the underlying steps to plot the regression line."
      ]
    },
    {
      "cell_type": "code",
      "execution_count": 11,
      "metadata": {
        "colab": {
          "base_uri": "https://localhost:8080/",
          "height": 467
        },
        "id": "F63bxT1AohIG",
        "outputId": "75a204bb-19e1-491b-89cb-5d007481701b"
      },
      "outputs": [
        {
          "output_type": "execute_result",
          "data": {
            "text/plain": [
              "<Axes: xlabel='parent_sleep', ylabel='parent_grumpy'>"
            ]
          },
          "metadata": {},
          "execution_count": 11
        },
        {
          "output_type": "display_data",
          "data": {
            "text/plain": [
              "<Figure size 640x480 with 1 Axes>"
            ],
            "image/png": "[encoded data removed]"
          },
          "metadata": {}
        }
      ],
      "source": [
        "sns.regplot(x='parent_sleep', y='parent_grumpy', data=df)"
      ]
    },
    {
      "cell_type": "markdown",
      "metadata": {
        "id": "4RhXQm2VohIG"
      },
      "source": [
        "Alternatively, if we want more control over the plot, or want to make other modifications, then using matplotlib is often going to be preferred."
      ]
    },
    {
      "cell_type": "code",
      "execution_count": 12,
      "metadata": {
        "colab": {
          "base_uri": "https://localhost:8080/",
          "height": 388
        },
        "id": "tB0baaNUohIG",
        "outputId": "11499db6-f576-4d8d-aa4c-f77190a8bd31"
      },
      "outputs": [
        {
          "output_type": "display_data",
          "data": {
            "text/plain": [
              "<Figure size 650x400 with 1 Axes>"
            ],
            "image/png": "[encoded data removed]"
          },
          "metadata": {}
        }
      ],
      "source": [
        "fig, ax = plt.subplots(figsize=(6.5,4))\n",
        "\n",
        "# create a DataFrame with the minimum and maximum values of sleep\n",
        "x1 = pd.DataFrame({'parent_sleep': [df.parent_sleep.min(), df.parent_sleep.max()]})\n",
        "y1 = lm.predict(x1)  # predict for the two data points using the fitted model in lm\n",
        "ax.plot(df.parent_sleep, df.parent_grumpy, 'ko', markersize=4)\n",
        "ax.plot(x1, y1, '-', color='steelblue', linewidth=1)\n",
        "plt.xlabel(\"parent_sleep\")\n",
        "plt.ylabel(\"parent_grumpy\")\n",
        "plt.show()"
      ]
    },
    {
      "cell_type": "markdown",
      "metadata": {
        "id": "_4z9W65rohIG"
      },
      "source": [
        "## Confidence in our Model\n",
        "\n",
        "As mentioned before, the **statsmodels** library offers some convience for more traditional statistics questions or tasks. One of those is getting an idea of how confident we are about the estimated values of the parameters. Looking at the confidence intervals for the parameter value estimates gives us a decent idea of whether the model fits this data reasonably well. Below we look at the 95% confidence interval, or the $(1-\\alpha)$% confidence interval.\n",
        "\n",
        "As you can see, although there is a range of possible values, the range is reasonably small, telling us that there is a high level of confidence these parameter values estimates are yielding a model that fits the data reasonably well. We have to be careful not to misinterpret this though, remember that the precise intrepretation of the confidence interval is...\n",
        "\n",
        "* If the population from which this sample was drawn was **sampled 100 times**, approximately **95 of those confidence intervals** would contain the \"true\" coefficient."
      ]
    },
    {
      "cell_type": "code",
      "execution_count": 13,
      "metadata": {
        "colab": {
          "base_uri": "https://localhost:8080/",
          "height": 112
        },
        "id": "u9QOCYiFohIG",
        "outputId": "cf0c35ff-9354-4538-d935-3caee11a8dcb"
      },
      "outputs": [
        {
          "output_type": "execute_result",
          "data": {
            "text/plain": [
              "                       0           1\n",
              "Intercept     119.971000  131.941583\n",
              "parent_sleep   -9.787161   -8.086350"
            ],
            "text/html": [
              "\n",
              "  <div id=\"df-9a7bfb52-950a-46db-b0d5-02c6a0dd1485\" class=\"colab-df-container\">\n",
              "    <div>\n",
              "<style scoped>\n",
              "    .dataframe tbody tr th:only-of-type {\n",
              "        vertical-align: middle;\n",
              "    }\n",
              "\n",
              "    .dataframe tbody tr th {\n",
              "        vertical-align: top;\n",
              "    }\n",
              "\n",
              "    .dataframe thead th {\n",
              "        text-align: right;\n",
              "    }\n",
              "</style>\n",
              "<table border=\"1\" class=\"dataframe\">\n",
              "  <thead>\n",
              "    <tr style=\"text-align: right;\">\n",
              "      <th></th>\n",
              "      <th>0</th>\n",
              "      <th>1</th>\n",
              "    </tr>\n",
              "  </thead>\n",
              "  <tbody>\n",
              "    <tr>\n",
              "      <th>Intercept</th>\n",
              "      <td>119.971000</td>\n",
              "      <td>131.941583</td>\n",
              "    </tr>\n",
              "    <tr>\n",
              "      <th>parent_sleep</th>\n",
              "      <td>-9.787161</td>\n",
              "      <td>-8.086350</td>\n",
              "    </tr>\n",
              "  </tbody>\n",
              "</table>\n",
              "</div>\n",
              "    <div class=\"colab-df-buttons\">\n",
              "\n",
              "  <div class=\"colab-df-container\">\n",
              "    <button class=\"colab-df-convert\" onclick=\"convertToInteractive('df-9a7bfb52-950a-46db-b0d5-02c6a0dd1485')\"\n",
              "            title=\"Convert this dataframe to an interactive table.\"\n",
              "            style=\"display:none;\">\n",
              "\n",
              "  <svg xmlns=\"http://www.w3.org/2000/svg\" height=\"24px\" viewBox=\"0 -960 960 960\">\n",
              "    <path d=\"M120-120v-720h720v720H120Zm60-500h600v-160H180v160Zm220 220h160v-160H400v160Zm0 220h160v-160H400v160ZM180-400h160v-160H180v160Zm440 0h160v-160H620v160ZM180-180h160v-160H180v160Zm440 0h160v-160H620v160Z\"/>\n",
              "  </svg>\n",
              "    </button>\n",
              "\n",
              "  <style>\n",
              "    .colab-df-container {\n",
              "      display:flex;\n",
              "      gap: 12px;\n",
              "    }\n",
              "\n",
              "    .colab-df-convert {\n",
              "      background-color: #E8F0FE;\n",
              "      border: none;\n",
              "      border-radius: 50%;\n",
              "      cursor: pointer;\n",
              "      display: none;\n",
              "      fill: #1967D2;\n",
              "      height: 32px;\n",
              "      padding: 0 0 0 0;\n",
              "      width: 32px;\n",
              "    }\n",
              "\n",
              "    .colab-df-convert:hover {\n",
              "      background-color: #E2EBFA;\n",
              "      box-shadow: 0px 1px 2px rgba(60, 64, 67, 0.3), 0px 1px 3px 1px rgba(60, 64, 67, 0.15);\n",
              "      fill: #174EA6;\n",
              "    }\n",
              "\n",
              "    .colab-df-buttons div {\n",
              "      margin-bottom: 4px;\n",
              "    }\n",
              "\n",
              "    [theme=dark] .colab-df-convert {\n",
              "      background-color: #3B4455;\n",
              "      fill: #D2E3FC;\n",
              "    }\n",
              "\n",
              "    [theme=dark] .colab-df-convert:hover {\n",
              "      background-color: #434B5C;\n",
              "      box-shadow: 0px 1px 3px 1px rgba(0, 0, 0, 0.15);\n",
              "      filter: drop-shadow(0px 1px 2px rgba(0, 0, 0, 0.3));\n",
              "      fill: #FFFFFF;\n",
              "    }\n",
              "  </style>\n",
              "\n",
              "    <script>\n",
              "      const buttonEl =\n",
              "        document.querySelector('#df-9a7bfb52-950a-46db-b0d5-02c6a0dd1485 button.colab-df-convert');\n",
              "      buttonEl.style.display =\n",
              "        google.colab.kernel.accessAllowed ? 'block' : 'none';\n",
              "\n",
              "      async function convertToInteractive(key) {\n",
              "        const element = document.querySelector('#df-9a7bfb52-950a-46db-b0d5-02c6a0dd1485');\n",
              "        const dataTable =\n",
              "          await google.colab.kernel.invokeFunction('convertToInteractive',\n",
              "                                                    [key], {});\n",
              "        if (!dataTable) return;\n",
              "\n",
              "        const docLinkHtml = 'Like what you see? Visit the ' +\n",
              "          '<a target=\"_blank\" href=https://colab.research.google.com/notebooks/data_table.ipynb>data table notebook</a>'\n",
              "          + ' to learn more about interactive tables.';\n",
              "        element.innerHTML = '';\n",
              "        dataTable['output_type'] = 'display_data';\n",
              "        await google.colab.output.renderOutput(dataTable, element);\n",
              "        const docLink = document.createElement('div');\n",
              "        docLink.innerHTML = docLinkHtml;\n",
              "        element.appendChild(docLink);\n",
              "      }\n",
              "    </script>\n",
              "  </div>\n",
              "\n",
              "\n",
              "    <div id=\"df-e3d76bca-a87e-4364-be58-92b391f106dc\">\n",
              "      <button class=\"colab-df-quickchart\" onclick=\"quickchart('df-e3d76bca-a87e-4364-be58-92b391f106dc')\"\n",
              "                title=\"Suggest charts\"\n",
              "                style=\"display:none;\">\n",
              "\n",
              "<svg xmlns=\"http://www.w3.org/2000/svg\" height=\"24px\"viewBox=\"0 0 24 24\"\n",
              "     width=\"24px\">\n",
              "    <g>\n",
              "        <path d=\"M19 3H5c-1.1 0-2 .9-2 2v14c0 1.1.9 2 2 2h14c1.1 0 2-.9 2-2V5c0-1.1-.9-2-2-2zM9 17H7v-7h2v7zm4 0h-2V7h2v10zm4 0h-2v-4h2v4z\"/>\n",
              "    </g>\n",
              "</svg>\n",
              "      </button>\n",
              "\n",
              "<style>\n",
              "  .colab-df-quickchart {\n",
              "      --bg-color: #E8F0FE;\n",
              "      --fill-color: #1967D2;\n",
              "      --hover-bg-color: #E2EBFA;\n",
              "      --hover-fill-color: #174EA6;\n",
              "      --disabled-fill-color: #AAA;\n",
              "      --disabled-bg-color: #DDD;\n",
              "  }\n",
              "\n",
              "  [theme=dark] .colab-df-quickchart {\n",
              "      --bg-color: #3B4455;\n",
              "      --fill-color: #D2E3FC;\n",
              "      --hover-bg-color: #434B5C;\n",
              "      --hover-fill-color: #FFFFFF;\n",
              "      --disabled-bg-color: #3B4455;\n",
              "      --disabled-fill-color: #666;\n",
              "  }\n",
              "\n",
              "  .colab-df-quickchart {\n",
              "    background-color: var(--bg-color);\n",
              "    border: none;\n",
              "    border-radius: 50%;\n",
              "    cursor: pointer;\n",
              "    display: none;\n",
              "    fill: var(--fill-color);\n",
              "    height: 32px;\n",
              "    padding: 0;\n",
              "    width: 32px;\n",
              "  }\n",
              "\n",
              "  .colab-df-quickchart:hover {\n",
              "    background-color: var(--hover-bg-color);\n",
              "    box-shadow: 0 1px 2px rgba(60, 64, 67, 0.3), 0 1px 3px 1px rgba(60, 64, 67, 0.15);\n",
              "    fill: var(--button-hover-fill-color);\n",
              "  }\n",
              "\n",
              "  .colab-df-quickchart-complete:disabled,\n",
              "  .colab-df-quickchart-complete:disabled:hover {\n",
              "    background-color: var(--disabled-bg-color);\n",
              "    fill: var(--disabled-fill-color);\n",
              "    box-shadow: none;\n",
              "  }\n",
              "\n",
              "  .colab-df-spinner {\n",
              "    border: 2px solid var(--fill-color);\n",
              "    border-color: transparent;\n",
              "    border-bottom-color: var(--fill-color);\n",
              "    animation:\n",
              "      spin 1s steps(1) infinite;\n",
              "  }\n",
              "\n",
              "  @keyframes spin {\n",
              "    0% {\n",
              "      border-color: transparent;\n",
              "      border-bottom-color: var(--fill-color);\n",
              "      border-left-color: var(--fill-color);\n",
              "    }\n",
              "    20% {\n",
              "      border-color: transparent;\n",
              "      border-left-color: var(--fill-color);\n",
              "      border-top-color: var(--fill-color);\n",
              "    }\n",
              "    30% {\n",
              "      border-color: transparent;\n",
              "      border-left-color: var(--fill-color);\n",
              "      border-top-color: var(--fill-color);\n",
              "      border-right-color: var(--fill-color);\n",
              "    }\n",
              "    40% {\n",
              "      border-color: transparent;\n",
              "      border-right-color: var(--fill-color);\n",
              "      border-top-color: var(--fill-color);\n",
              "    }\n",
              "    60% {\n",
              "      border-color: transparent;\n",
              "      border-right-color: var(--fill-color);\n",
              "    }\n",
              "    80% {\n",
              "      border-color: transparent;\n",
              "      border-right-color: var(--fill-color);\n",
              "      border-bottom-color: var(--fill-color);\n",
              "    }\n",
              "    90% {\n",
              "      border-color: transparent;\n",
              "      border-bottom-color: var(--fill-color);\n",
              "    }\n",
              "  }\n",
              "</style>\n",
              "\n",
              "      <script>\n",
              "        async function quickchart(key) {\n",
              "          const quickchartButtonEl =\n",
              "            document.querySelector('#' + key + ' button');\n",
              "          quickchartButtonEl.disabled = true;  // To prevent multiple clicks.\n",
              "          quickchartButtonEl.classList.add('colab-df-spinner');\n",
              "          try {\n",
              "            const charts = await google.colab.kernel.invokeFunction(\n",
              "                'suggestCharts', [key], {});\n",
              "          } catch (error) {\n",
              "            console.error('Error during call to suggestCharts:', error);\n",
              "          }\n",
              "          quickchartButtonEl.classList.remove('colab-df-spinner');\n",
              "          quickchartButtonEl.classList.add('colab-df-quickchart-complete');\n",
              "        }\n",
              "        (() => {\n",
              "          let quickchartButtonEl =\n",
              "            document.querySelector('#df-e3d76bca-a87e-4364-be58-92b391f106dc button');\n",
              "          quickchartButtonEl.style.display =\n",
              "            google.colab.kernel.accessAllowed ? 'block' : 'none';\n",
              "        })();\n",
              "      </script>\n",
              "    </div>\n",
              "\n",
              "    </div>\n",
              "  </div>\n"
            ],
            "application/vnd.google.colaboratory.intrinsic+json": {
              "type": "dataframe",
              "summary": "{\n  \"name\": \"sm_lm\",\n  \"rows\": 2,\n  \"fields\": [\n    {\n      \"column\": 0,\n      \"properties\": {\n        \"dtype\": \"number\",\n        \"std\": 91.75287614877612,\n        \"min\": -9.787161350455055,\n        \"max\": 119.97100048588302,\n        \"num_unique_values\": 2,\n        \"samples\": [\n          -9.787161350455055,\n          119.97100048588302\n        ],\n        \"semantic_type\": \"\",\n        \"description\": \"\"\n      }\n    },\n    {\n      \"column\": 1,\n      \"properties\": {\n        \"dtype\": \"number\",\n        \"std\": 99.01470102901692,\n        \"min\": -8.086350288410397,\n        \"max\": 131.94158278114259,\n        \"num_unique_values\": 2,\n        \"samples\": [\n          -8.086350288410397,\n          131.94158278114259\n        ],\n        \"semantic_type\": \"\",\n        \"description\": \"\"\n      }\n    }\n  ]\n}"
            }
          },
          "metadata": {},
          "execution_count": 13
        }
      ],
      "source": [
        "# print the confidence intervals for the model coefficients\n",
        "sm_lm.conf_int(alpha=0.05)"
      ]
    },
    {
      "cell_type": "markdown",
      "metadata": {
        "id": "7U3r8ry4ohIG"
      },
      "source": [
        "Since the **sklearn** package tends to take more of a machine learning approach it does not have some of the same functionality as statsmodels. However, with a few more steps, it is possible to calculate. It's possible though, and you should verify that the confidence intervals are the same as above."
      ]
    },
    {
      "cell_type": "code",
      "execution_count": 14,
      "metadata": {
        "colab": {
          "base_uri": "https://localhost:8080/",
          "height": 112
        },
        "id": "EF687MU2ohIG",
        "outputId": "90b15883-c998-459a-e978-5726967821c5"
      },
      "outputs": [
        {
          "output_type": "execute_result",
          "data": {
            "text/plain": [
              "                   lower       upper\n",
              "const         119.971000  131.941583\n",
              "parent_sleep   -9.787161   -8.086350"
            ],
            "text/html": [
              "\n",
              "  <div id=\"df-06430b8f-2387-421a-a79a-b0a2eafb5a19\" class=\"colab-df-container\">\n",
              "    <div>\n",
              "<style scoped>\n",
              "    .dataframe tbody tr th:only-of-type {\n",
              "        vertical-align: middle;\n",
              "    }\n",
              "\n",
              "    .dataframe tbody tr th {\n",
              "        vertical-align: top;\n",
              "    }\n",
              "\n",
              "    .dataframe thead th {\n",
              "        text-align: right;\n",
              "    }\n",
              "</style>\n",
              "<table border=\"1\" class=\"dataframe\">\n",
              "  <thead>\n",
              "    <tr style=\"text-align: right;\">\n",
              "      <th></th>\n",
              "      <th>lower</th>\n",
              "      <th>upper</th>\n",
              "    </tr>\n",
              "  </thead>\n",
              "  <tbody>\n",
              "    <tr>\n",
              "      <th>const</th>\n",
              "      <td>119.971000</td>\n",
              "      <td>131.941583</td>\n",
              "    </tr>\n",
              "    <tr>\n",
              "      <th>parent_sleep</th>\n",
              "      <td>-9.787161</td>\n",
              "      <td>-8.086350</td>\n",
              "    </tr>\n",
              "  </tbody>\n",
              "</table>\n",
              "</div>\n",
              "    <div class=\"colab-df-buttons\">\n",
              "\n",
              "  <div class=\"colab-df-container\">\n",
              "    <button class=\"colab-df-convert\" onclick=\"convertToInteractive('df-06430b8f-2387-421a-a79a-b0a2eafb5a19')\"\n",
              "            title=\"Convert this dataframe to an interactive table.\"\n",
              "            style=\"display:none;\">\n",
              "\n",
              "  <svg xmlns=\"http://www.w3.org/2000/svg\" height=\"24px\" viewBox=\"0 -960 960 960\">\n",
              "    <path d=\"M120-120v-720h720v720H120Zm60-500h600v-160H180v160Zm220 220h160v-160H400v160Zm0 220h160v-160H400v160ZM180-400h160v-160H180v160Zm440 0h160v-160H620v160ZM180-180h160v-160H180v160Zm440 0h160v-160H620v160Z\"/>\n",
              "  </svg>\n",
              "    </button>\n",
              "\n",
              "  <style>\n",
              "    .colab-df-container {\n",
              "      display:flex;\n",
              "      gap: 12px;\n",
              "    }\n",
              "\n",
              "    .colab-df-convert {\n",
              "      background-color: #E8F0FE;\n",
              "      border: none;\n",
              "      border-radius: 50%;\n",
              "      cursor: pointer;\n",
              "      display: none;\n",
              "      fill: #1967D2;\n",
              "      height: 32px;\n",
              "      padding: 0 0 0 0;\n",
              "      width: 32px;\n",
              "    }\n",
              "\n",
              "    .colab-df-convert:hover {\n",
              "      background-color: #E2EBFA;\n",
              "      box-shadow: 0px 1px 2px rgba(60, 64, 67, 0.3), 0px 1px 3px 1px rgba(60, 64, 67, 0.15);\n",
              "      fill: #174EA6;\n",
              "    }\n",
              "\n",
              "    .colab-df-buttons div {\n",
              "      margin-bottom: 4px;\n",
              "    }\n",
              "\n",
              "    [theme=dark] .colab-df-convert {\n",
              "      background-color: #3B4455;\n",
              "      fill: #D2E3FC;\n",
              "    }\n",
              "\n",
              "    [theme=dark] .colab-df-convert:hover {\n",
              "      background-color: #434B5C;\n",
              "      box-shadow: 0px 1px 3px 1px rgba(0, 0, 0, 0.15);\n",
              "      filter: drop-shadow(0px 1px 2px rgba(0, 0, 0, 0.3));\n",
              "      fill: #FFFFFF;\n",
              "    }\n",
              "  </style>\n",
              "\n",
              "    <script>\n",
              "      const buttonEl =\n",
              "        document.querySelector('#df-06430b8f-2387-421a-a79a-b0a2eafb5a19 button.colab-df-convert');\n",
              "      buttonEl.style.display =\n",
              "        google.colab.kernel.accessAllowed ? 'block' : 'none';\n",
              "\n",
              "      async function convertToInteractive(key) {\n",
              "        const element = document.querySelector('#df-06430b8f-2387-421a-a79a-b0a2eafb5a19');\n",
              "        const dataTable =\n",
              "          await google.colab.kernel.invokeFunction('convertToInteractive',\n",
              "                                                    [key], {});\n",
              "        if (!dataTable) return;\n",
              "\n",
              "        const docLinkHtml = 'Like what you see? Visit the ' +\n",
              "          '<a target=\"_blank\" href=https://colab.research.google.com/notebooks/data_table.ipynb>data table notebook</a>'\n",
              "          + ' to learn more about interactive tables.';\n",
              "        element.innerHTML = '';\n",
              "        dataTable['output_type'] = 'display_data';\n",
              "        await google.colab.output.renderOutput(dataTable, element);\n",
              "        const docLink = document.createElement('div');\n",
              "        docLink.innerHTML = docLinkHtml;\n",
              "        element.appendChild(docLink);\n",
              "      }\n",
              "    </script>\n",
              "  </div>\n",
              "\n",
              "\n",
              "    <div id=\"df-81642226-9266-4e6f-b729-3ec0f4b1682d\">\n",
              "      <button class=\"colab-df-quickchart\" onclick=\"quickchart('df-81642226-9266-4e6f-b729-3ec0f4b1682d')\"\n",
              "                title=\"Suggest charts\"\n",
              "                style=\"display:none;\">\n",
              "\n",
              "<svg xmlns=\"http://www.w3.org/2000/svg\" height=\"24px\"viewBox=\"0 0 24 24\"\n",
              "     width=\"24px\">\n",
              "    <g>\n",
              "        <path d=\"M19 3H5c-1.1 0-2 .9-2 2v14c0 1.1.9 2 2 2h14c1.1 0 2-.9 2-2V5c0-1.1-.9-2-2-2zM9 17H7v-7h2v7zm4 0h-2V7h2v10zm4 0h-2v-4h2v4z\"/>\n",
              "    </g>\n",
              "</svg>\n",
              "      </button>\n",
              "\n",
              "<style>\n",
              "  .colab-df-quickchart {\n",
              "      --bg-color: #E8F0FE;\n",
              "      --fill-color: #1967D2;\n",
              "      --hover-bg-color: #E2EBFA;\n",
              "      --hover-fill-color: #174EA6;\n",
              "      --disabled-fill-color: #AAA;\n",
              "      --disabled-bg-color: #DDD;\n",
              "  }\n",
              "\n",
              "  [theme=dark] .colab-df-quickchart {\n",
              "      --bg-color: #3B4455;\n",
              "      --fill-color: #D2E3FC;\n",
              "      --hover-bg-color: #434B5C;\n",
              "      --hover-fill-color: #FFFFFF;\n",
              "      --disabled-bg-color: #3B4455;\n",
              "      --disabled-fill-color: #666;\n",
              "  }\n",
              "\n",
              "  .colab-df-quickchart {\n",
              "    background-color: var(--bg-color);\n",
              "    border: none;\n",
              "    border-radius: 50%;\n",
              "    cursor: pointer;\n",
              "    display: none;\n",
              "    fill: var(--fill-color);\n",
              "    height: 32px;\n",
              "    padding: 0;\n",
              "    width: 32px;\n",
              "  }\n",
              "\n",
              "  .colab-df-quickchart:hover {\n",
              "    background-color: var(--hover-bg-color);\n",
              "    box-shadow: 0 1px 2px rgba(60, 64, 67, 0.3), 0 1px 3px 1px rgba(60, 64, 67, 0.15);\n",
              "    fill: var(--button-hover-fill-color);\n",
              "  }\n",
              "\n",
              "  .colab-df-quickchart-complete:disabled,\n",
              "  .colab-df-quickchart-complete:disabled:hover {\n",
              "    background-color: var(--disabled-bg-color);\n",
              "    fill: var(--disabled-fill-color);\n",
              "    box-shadow: none;\n",
              "  }\n",
              "\n",
              "  .colab-df-spinner {\n",
              "    border: 2px solid var(--fill-color);\n",
              "    border-color: transparent;\n",
              "    border-bottom-color: var(--fill-color);\n",
              "    animation:\n",
              "      spin 1s steps(1) infinite;\n",
              "  }\n",
              "\n",
              "  @keyframes spin {\n",
              "    0% {\n",
              "      border-color: transparent;\n",
              "      border-bottom-color: var(--fill-color);\n",
              "      border-left-color: var(--fill-color);\n",
              "    }\n",
              "    20% {\n",
              "      border-color: transparent;\n",
              "      border-left-color: var(--fill-color);\n",
              "      border-top-color: var(--fill-color);\n",
              "    }\n",
              "    30% {\n",
              "      border-color: transparent;\n",
              "      border-left-color: var(--fill-color);\n",
              "      border-top-color: var(--fill-color);\n",
              "      border-right-color: var(--fill-color);\n",
              "    }\n",
              "    40% {\n",
              "      border-color: transparent;\n",
              "      border-right-color: var(--fill-color);\n",
              "      border-top-color: var(--fill-color);\n",
              "    }\n",
              "    60% {\n",
              "      border-color: transparent;\n",
              "      border-right-color: var(--fill-color);\n",
              "    }\n",
              "    80% {\n",
              "      border-color: transparent;\n",
              "      border-right-color: var(--fill-color);\n",
              "      border-bottom-color: var(--fill-color);\n",
              "    }\n",
              "    90% {\n",
              "      border-color: transparent;\n",
              "      border-bottom-color: var(--fill-color);\n",
              "    }\n",
              "  }\n",
              "</style>\n",
              "\n",
              "      <script>\n",
              "        async function quickchart(key) {\n",
              "          const quickchartButtonEl =\n",
              "            document.querySelector('#' + key + ' button');\n",
              "          quickchartButtonEl.disabled = true;  // To prevent multiple clicks.\n",
              "          quickchartButtonEl.classList.add('colab-df-spinner');\n",
              "          try {\n",
              "            const charts = await google.colab.kernel.invokeFunction(\n",
              "                'suggestCharts', [key], {});\n",
              "          } catch (error) {\n",
              "            console.error('Error during call to suggestCharts:', error);\n",
              "          }\n",
              "          quickchartButtonEl.classList.remove('colab-df-spinner');\n",
              "          quickchartButtonEl.classList.add('colab-df-quickchart-complete');\n",
              "        }\n",
              "        (() => {\n",
              "          let quickchartButtonEl =\n",
              "            document.querySelector('#df-81642226-9266-4e6f-b729-3ec0f4b1682d button');\n",
              "          quickchartButtonEl.style.display =\n",
              "            google.colab.kernel.accessAllowed ? 'block' : 'none';\n",
              "        })();\n",
              "      </script>\n",
              "    </div>\n",
              "\n",
              "    </div>\n",
              "  </div>\n"
            ],
            "application/vnd.google.colaboratory.intrinsic+json": {
              "type": "dataframe",
              "summary": "{\n  \"name\": \"get_conf_int(0\",\n  \"rows\": 2,\n  \"fields\": [\n    {\n      \"column\": \"lower\",\n      \"properties\": {\n        \"dtype\": \"number\",\n        \"std\": 91.75287614877617,\n        \"min\": -9.787161350455053,\n        \"max\": 119.97100048588308,\n        \"num_unique_values\": 2,\n        \"samples\": [\n          -9.787161350455053,\n          119.97100048588308\n        ],\n        \"semantic_type\": \"\",\n        \"description\": \"\"\n      }\n    },\n    {\n      \"column\": \"upper\",\n      \"properties\": {\n        \"dtype\": \"number\",\n        \"std\": 99.01470102901693,\n        \"min\": -8.086350288410403,\n        \"max\": 131.94158278114259,\n        \"num_unique_values\": 2,\n        \"samples\": [\n          -8.086350288410403,\n          131.94158278114259\n        ],\n        \"semantic_type\": \"\",\n        \"description\": \"\"\n      }\n    }\n  ]\n}"
            }
          },
          "metadata": {},
          "execution_count": 14
        }
      ],
      "source": [
        "# needs the stats module for getting appropriate t-values\n",
        "from scipy import stats\n",
        "\n",
        "def get_conf_int(alpha, lr, X, y):\n",
        "    coefs = np.r_[[lr.intercept_], lr.coef_]\n",
        "    X_aux = X.copy()\n",
        "    X_aux.insert(0, 'const', 1)\n",
        "    dof = -np.diff(X_aux.shape)[0]\n",
        "    mse = np.sum((y - lr.predict(X)) ** 2) / dof\n",
        "    var_params = np.diag(np.linalg.inv(X_aux.T.dot(X_aux)))\n",
        "    t_val = stats.t.isf(alpha/2, dof)\n",
        "    gap = t_val * np.sqrt(mse * var_params)\n",
        "\n",
        "    return pd.DataFrame({\n",
        "        'lower': coefs - gap, 'upper': coefs + gap\n",
        "    }, index=X_aux.columns)\n",
        "\n",
        "get_conf_int(0.05, lm, df[['parent_sleep']], df['parent_grumpy'])"
      ]
    },
    {
      "cell_type": "code",
      "execution_count": 15,
      "metadata": {
        "colab": {
          "base_uri": "https://localhost:8080/"
        },
        "id": "-rHDDbUYohIM",
        "outputId": "dadca8cf-e473-42c4-ccc1-ff2b65ad06ef"
      },
      "outputs": [
        {
          "output_type": "execute_result",
          "data": {
            "text/plain": [
              "array([-96])"
            ]
          },
          "metadata": {},
          "execution_count": 15
        }
      ],
      "source": [
        "np.diff(df.shape)"
      ]
    },
    {
      "cell_type": "markdown",
      "metadata": {
        "id": "WAGk4wC2ohIM"
      },
      "source": [
        "Again, remember that we only have a **single sample of data**, and not the **entire population of data**. The \"true\" coefficient is either within this interval or it isn't, but there's no way to actually know. We estimate the coefficient with the data we do have, and we show uncertainty about that estimate by giving a range that the coefficient is **probably** within.\n",
        "\n",
        "Also note that using 95% confidence intervals is just a convention. We could create 90% confidence intervals (which will be more narrow), or 99% confidence intervals (which will be wider), or whatever intervals we think make the most sense for our analysis/task."
      ]
    },
    {
      "cell_type": "markdown",
      "metadata": {
        "id": "schurHKRohIM"
      },
      "source": [
        "## Hypothesis Testing and p-values\n",
        "\n",
        "Closely related to confidence intervals is **hypothesis testing**. Generally speaking, we start with a **null hypothesis** and an **alternative hypothesis** (that is opposite the null). Then, we check whether the data supports **rejecting the null hypothesis** or **failing to reject the null hypothesis**.\n",
        "\n",
        "(Note that \"failing to reject\" the null is not the same as \"accepting\" the null hypothesis. The alternative hypothesis may indeed be true, except that we just don't have enough data to show that.)\n",
        "\n",
        "As it relates to model coefficients, here is the conventional hypothesis test:\n",
        "- **null hypothesis:** There is no relationship between dad sleep and grumpiness (and thus $\\beta_1$ equals zero)\n",
        "- **alternative hypothesis:** There is a relationship between dad sleep and dad grumpinss (and thus $\\beta_1$ is not equal to zero)"
      ]
    },
    {
      "cell_type": "code",
      "execution_count": 16,
      "metadata": {
        "colab": {
          "base_uri": "https://localhost:8080/",
          "height": 147
        },
        "id": "0bfEjvV9ohIM",
        "outputId": "89bbc417-3b2d-494e-e68c-63bee90b3f6b"
      },
      "outputs": [
        {
          "output_type": "execute_result",
          "data": {
            "text/plain": [
              "Intercept       3.070709e-64\n",
              "parent_sleep    8.176426e-38\n",
              "dtype: float64"
            ],
            "text/html": [
              "<div>\n",
              "<style scoped>\n",
              "    .dataframe tbody tr th:only-of-type {\n",
              "        vertical-align: middle;\n",
              "    }\n",
              "\n",
              "    .dataframe tbody tr th {\n",
              "        vertical-align: top;\n",
              "    }\n",
              "\n",
              "    .dataframe thead th {\n",
              "        text-align: right;\n",
              "    }\n",
              "</style>\n",
              "<table border=\"1\" class=\"dataframe\">\n",
              "  <thead>\n",
              "    <tr style=\"text-align: right;\">\n",
              "      <th></th>\n",
              "      <th>0</th>\n",
              "    </tr>\n",
              "  </thead>\n",
              "  <tbody>\n",
              "    <tr>\n",
              "      <th>Intercept</th>\n",
              "      <td>3.070709e-64</td>\n",
              "    </tr>\n",
              "    <tr>\n",
              "      <th>parent_sleep</th>\n",
              "      <td>8.176426e-38</td>\n",
              "    </tr>\n",
              "  </tbody>\n",
              "</table>\n",
              "</div><br><label><b>dtype:</b> float64</label>"
            ]
          },
          "metadata": {},
          "execution_count": 16
        }
      ],
      "source": [
        "# print the p-values for the model coefficients\n",
        "sm_lm.pvalues"
      ]
    },
    {
      "cell_type": "markdown",
      "metadata": {
        "id": "-5HGpcqgohIM"
      },
      "source": [
        "How do we test this hypothesis? Intuitively, we reject the null (and thus believe the alternative) if the 95% confidence interval **does not include zero**. That is generally much easier to intrepret than the p-value, which strictly speaking should be interpreted as follows:\n",
        "* If the null hypothesis is true, then the p-value is probability of observing the data that we did (and thus getting the model parameters that we did).\n",
        "\n",
        "In this case, since the the p-values are both so small, we can likely safely reject the null hypothesis in favor of the alternative.\n",
        "\n",
        "Note that we generally ignore the p-value for the intercept. So, focusing only on the model parameter associated with `parent_sleep`, and seeing a p-value far less than 0.05, we can conclude that there is a relationship between sleep and grumpiness."
      ]
    },
    {
      "cell_type": "markdown",
      "metadata": {
        "id": "LjrdG4pVohIM"
      },
      "source": [
        "## How Well Does the Model Fit the data?\n",
        "\n",
        "The most common way to evaluate the overall fit of a linear model is by the **R-squared** value. R-squared is calculated in such a way that it has the direct intrepretation of being the **proportion of variance explained**, meaning the proportion of variance in the observed data that is explained by the model, or the reduction in error over the **null model**. (The null model just predicts the mean of the observed response, and thus it has an intercept and no slope.)\n",
        "\n",
        "R-squared is between 0 and 1, and higher is better because it means that more variance is explained by the model. Here's an example of what R-squared might be for different models fit to the same dataset (but a different data than our parenthood data).\n",
        "\n",
        "![polyfits](https://github.com/sgeinitz/CS3120/blob/main/images/poly_fits.png?raw=true)\n",
        "\n",
        "You can see that the **blue line** explains some of the variance in the data (R-squared=0.54), the **green line** explains more of the variance (R-squared=0.64), and the **red line** fits the training data even further (R-squared=0.66). (No need to think about this too hard right now, but which of those possible"
      ]
    },
    {
      "cell_type": "markdown",
      "metadata": {
        "id": "e0rVmZRDohIM"
      },
      "source": [
        "Getting back to our parenthood datset, let's now calculate the R-squared value for our simple linear model."
      ]
    },
    {
      "cell_type": "code",
      "execution_count": 17,
      "metadata": {
        "colab": {
          "base_uri": "https://localhost:8080/"
        },
        "id": "XsHXpGv5ohIM",
        "outputId": "4ef868e0-0330-4a3c-a8f8-363d8fd59003"
      },
      "outputs": [
        {
          "output_type": "execute_result",
          "data": {
            "text/plain": [
              "np.float64(0.816102719147878)"
            ]
          },
          "metadata": {},
          "execution_count": 17
        }
      ],
      "source": [
        "sm_lm.rsquared"
      ]
    },
    {
      "cell_type": "markdown",
      "metadata": {
        "id": "BPVstAjTohIM"
      },
      "source": [
        "It's difficult to say what \"_good_\" R-squared value is. The threshold for a good R-squared value will depend widely on the domain and data. Therefore, it's most useful as a tool for **comparing different models**, rather than as saying that a single model is \"_good_\"."
      ]
    },
    {
      "cell_type": "markdown",
      "metadata": {
        "id": "15B6tNJDohIM"
      },
      "source": [
        "Up until now we have been pulling information from the fitted model piece by piece. However, there is a nice summary command with **statsmodels** that lets you access a bunch of information about your regression at once. Don't worry about all of the other statistics and details listed there, just know that almost all of the information you'll ever need about a linear regression model can be found there."
      ]
    },
    {
      "cell_type": "code",
      "execution_count": 18,
      "metadata": {
        "colab": {
          "base_uri": "https://localhost:8080/",
          "height": 452
        },
        "id": "tKFDtE5iohIN",
        "outputId": "a396b1ee-8f3d-4225-b642-c48340081f99"
      },
      "outputs": [
        {
          "output_type": "execute_result",
          "data": {
            "text/plain": [
              "<class 'statsmodels.iolib.summary.Summary'>\n",
              "\"\"\"\n",
              "                            OLS Regression Results                            \n",
              "==============================================================================\n",
              "Dep. Variable:          parent_grumpy   R-squared:                       0.816\n",
              "Model:                            OLS   Adj. R-squared:                  0.814\n",
              "Method:                 Least Squares   F-statistic:                     434.9\n",
              "Date:                Thu, 04 Sep 2025   Prob (F-statistic):           8.18e-38\n",
              "Time:                        09:06:20   Log-Likelihood:                -287.48\n",
              "No. Observations:                 100   AIC:                             579.0\n",
              "Df Residuals:                      98   BIC:                             584.2\n",
              "Df Model:                           1                                         \n",
              "Covariance Type:            nonrobust                                         \n",
              "================================================================================\n",
              "                   coef    std err          t      P>|t|      [0.025      0.975]\n",
              "--------------------------------------------------------------------------------\n",
              "Intercept      125.9563      3.016     41.762      0.000     119.971     131.942\n",
              "parent_sleep    -8.9368      0.429    -20.854      0.000      -9.787      -8.086\n",
              "==============================================================================\n",
              "Omnibus:                        0.597   Durbin-Watson:                   2.121\n",
              "Prob(Omnibus):                  0.742   Jarque-Bera (JB):                0.221\n",
              "Skew:                          -0.054   Prob(JB):                        0.895\n",
              "Kurtosis:                       3.204   Cond. No.                         50.0\n",
              "==============================================================================\n",
              "\n",
              "Notes:\n",
              "[1] Standard Errors assume that the covariance matrix of the errors is correctly specified.\n",
              "\"\"\""
            ],
            "text/html": [
              "<table class=\"simpletable\">\n",
              "<caption>OLS Regression Results</caption>\n",
              "<tr>\n",
              "  <th>Dep. Variable:</th>      <td>parent_grumpy</td>  <th>  R-squared:         </th> <td>   0.816</td>\n",
              "</tr>\n",
              "<tr>\n",
              "  <th>Model:</th>                   <td>OLS</td>       <th>  Adj. R-squared:    </th> <td>   0.814</td>\n",
              "</tr>\n",
              "<tr>\n",
              "  <th>Method:</th>             <td>Least Squares</td>  <th>  F-statistic:       </th> <td>   434.9</td>\n",
              "</tr>\n",
              "<tr>\n",
              "  <th>Date:</th>             <td>Thu, 04 Sep 2025</td> <th>  Prob (F-statistic):</th> <td>8.18e-38</td>\n",
              "</tr>\n",
              "<tr>\n",
              "  <th>Time:</th>                 <td>09:06:20</td>     <th>  Log-Likelihood:    </th> <td> -287.48</td>\n",
              "</tr>\n",
              "<tr>\n",
              "  <th>No. Observations:</th>      <td>   100</td>      <th>  AIC:               </th> <td>   579.0</td>\n",
              "</tr>\n",
              "<tr>\n",
              "  <th>Df Residuals:</th>          <td>    98</td>      <th>  BIC:               </th> <td>   584.2</td>\n",
              "</tr>\n",
              "<tr>\n",
              "  <th>Df Model:</th>              <td>     1</td>      <th>                     </th>     <td> </td>   \n",
              "</tr>\n",
              "<tr>\n",
              "  <th>Covariance Type:</th>      <td>nonrobust</td>    <th>                     </th>     <td> </td>   \n",
              "</tr>\n",
              "</table>\n",
              "<table class=\"simpletable\">\n",
              "<tr>\n",
              "        <td></td>          <th>coef</th>     <th>std err</th>      <th>t</th>      <th>P>|t|</th>  <th>[0.025</th>    <th>0.975]</th>  \n",
              "</tr>\n",
              "<tr>\n",
              "  <th>Intercept</th>    <td>  125.9563</td> <td>    3.016</td> <td>   41.762</td> <td> 0.000</td> <td>  119.971</td> <td>  131.942</td>\n",
              "</tr>\n",
              "<tr>\n",
              "  <th>parent_sleep</th> <td>   -8.9368</td> <td>    0.429</td> <td>  -20.854</td> <td> 0.000</td> <td>   -9.787</td> <td>   -8.086</td>\n",
              "</tr>\n",
              "</table>\n",
              "<table class=\"simpletable\">\n",
              "<tr>\n",
              "  <th>Omnibus:</th>       <td> 0.597</td> <th>  Durbin-Watson:     </th> <td>   2.121</td>\n",
              "</tr>\n",
              "<tr>\n",
              "  <th>Prob(Omnibus):</th> <td> 0.742</td> <th>  Jarque-Bera (JB):  </th> <td>   0.221</td>\n",
              "</tr>\n",
              "<tr>\n",
              "  <th>Skew:</th>          <td>-0.054</td> <th>  Prob(JB):          </th> <td>   0.895</td>\n",
              "</tr>\n",
              "<tr>\n",
              "  <th>Kurtosis:</th>      <td> 3.204</td> <th>  Cond. No.          </th> <td>    50.0</td>\n",
              "</tr>\n",
              "</table><br/><br/>Notes:<br/>[1] Standard Errors assume that the covariance matrix of the errors is correctly specified."
            ],
            "text/latex": "\\begin{center}\n\\begin{tabular}{lclc}\n\\toprule\n\\textbf{Dep. Variable:}    &  parent\\_grumpy  & \\textbf{  R-squared:         } &     0.816   \\\\\n\\textbf{Model:}            &       OLS        & \\textbf{  Adj. R-squared:    } &     0.814   \\\\\n\\textbf{Method:}           &  Least Squares   & \\textbf{  F-statistic:       } &     434.9   \\\\\n\\textbf{Date:}             & Thu, 04 Sep 2025 & \\textbf{  Prob (F-statistic):} &  8.18e-38   \\\\\n\\textbf{Time:}             &     09:06:20     & \\textbf{  Log-Likelihood:    } &   -287.48   \\\\\n\\textbf{No. Observations:} &         100      & \\textbf{  AIC:               } &     579.0   \\\\\n\\textbf{Df Residuals:}     &          98      & \\textbf{  BIC:               } &     584.2   \\\\\n\\textbf{Df Model:}         &           1      & \\textbf{                     } &             \\\\\n\\textbf{Covariance Type:}  &    nonrobust     & \\textbf{                     } &             \\\\\n\\bottomrule\n\\end{tabular}\n\\begin{tabular}{lcccccc}\n                       & \\textbf{coef} & \\textbf{std err} & \\textbf{t} & \\textbf{P$> |$t$|$} & \\textbf{[0.025} & \\textbf{0.975]}  \\\\\n\\midrule\n\\textbf{Intercept}     &     125.9563  &        3.016     &    41.762  &         0.000        &      119.971    &      131.942     \\\\\n\\textbf{parent\\_sleep} &      -8.9368  &        0.429     &   -20.854  &         0.000        &       -9.787    &       -8.086     \\\\\n\\bottomrule\n\\end{tabular}\n\\begin{tabular}{lclc}\n\\textbf{Omnibus:}       &  0.597 & \\textbf{  Durbin-Watson:     } &    2.121  \\\\\n\\textbf{Prob(Omnibus):} &  0.742 & \\textbf{  Jarque-Bera (JB):  } &    0.221  \\\\\n\\textbf{Skew:}          & -0.054 & \\textbf{  Prob(JB):          } &    0.895  \\\\\n\\textbf{Kurtosis:}      &  3.204 & \\textbf{  Cond. No.          } &     50.0  \\\\\n\\bottomrule\n\\end{tabular}\n%\\caption{OLS Regression Results}\n\\end{center}\n\nNotes: \\newline\n [1] Standard Errors assume that the covariance matrix of the errors is correctly specified."
          },
          "metadata": {},
          "execution_count": 18
        }
      ],
      "source": [
        "sm_lm.summary()"
      ]
    },
    {
      "cell_type": "markdown",
      "metadata": {
        "id": "XOdxldfmohIN"
      },
      "source": [
        "## Training a Linear Regression Manually\n",
        "\n",
        "We saw how easy it is to use Python to fit (i.e. train) a linear regression model. Let's go ahead and confirm that the manual approaches we've seen, and the intuition behind them also make sense.\n",
        "\n",
        "Most often we'll see a linear regression defined for one $i^{th}$ observation or training example. Which, for the feature $x_i$ and outcome $y_i$, is written as:\n",
        "$$y_i = \\beta_0 1 + \\beta_1 x_i$$\n",
        "\n",
        "However, we also saw that this can be written in vector or matrix notation where the matrix, $X$, has a column of 1's in it.\n",
        "$$\\vec{y} = X \\vec{\\beta}$$\n",
        "where\n",
        "$$\\vec{\\beta} = \\begin{bmatrix}\\beta_0 \\\\ \\beta_1\\end{bmatrix}$$\n",
        "Then, since (or if) the columns of the matrix $X$ are linearly independent, then the matrix $(X^T X)$ has an inverse, and the model parameters can be calculated directly using:\n",
        "$$\\vec{\\beta} = (X^T X)^{-1} X^T \\vec{y}$$\n",
        "\n",
        "Let's now confirm this works using the parenthood data. We'll first create the matrix $X$, being sure to add a $1$ column since that is needed to estimate $\\beta_0$.\n",
        ""
      ]
    },
    {
      "cell_type": "code",
      "execution_count": 19,
      "metadata": {
        "colab": {
          "base_uri": "https://localhost:8080/",
          "height": 143
        },
        "id": "4JOsiy2fohIN",
        "outputId": "2f34850e-65c5-4e9c-9766-414faf4f8def"
      },
      "outputs": [
        {
          "output_type": "execute_result",
          "data": {
            "text/plain": [
              "   intercept  parent_sleep\n",
              "0          1          7.59\n",
              "1          1          7.91\n",
              "2          1          5.14"
            ],
            "text/html": [
              "\n",
              "  <div id=\"df-6cc26a88-aed6-4c5b-8544-a4c9deded1d9\" class=\"colab-df-container\">\n",
              "    <div>\n",
              "<style scoped>\n",
              "    .dataframe tbody tr th:only-of-type {\n",
              "        vertical-align: middle;\n",
              "    }\n",
              "\n",
              "    .dataframe tbody tr th {\n",
              "        vertical-align: top;\n",
              "    }\n",
              "\n",
              "    .dataframe thead th {\n",
              "        text-align: right;\n",
              "    }\n",
              "</style>\n",
              "<table border=\"1\" class=\"dataframe\">\n",
              "  <thead>\n",
              "    <tr style=\"text-align: right;\">\n",
              "      <th></th>\n",
              "      <th>intercept</th>\n",
              "      <th>parent_sleep</th>\n",
              "    </tr>\n",
              "  </thead>\n",
              "  <tbody>\n",
              "    <tr>\n",
              "      <th>0</th>\n",
              "      <td>1</td>\n",
              "      <td>7.59</td>\n",
              "    </tr>\n",
              "    <tr>\n",
              "      <th>1</th>\n",
              "      <td>1</td>\n",
              "      <td>7.91</td>\n",
              "    </tr>\n",
              "    <tr>\n",
              "      <th>2</th>\n",
              "      <td>1</td>\n",
              "      <td>5.14</td>\n",
              "    </tr>\n",
              "  </tbody>\n",
              "</table>\n",
              "</div>\n",
              "    <div class=\"colab-df-buttons\">\n",
              "\n",
              "  <div class=\"colab-df-container\">\n",
              "    <button class=\"colab-df-convert\" onclick=\"convertToInteractive('df-6cc26a88-aed6-4c5b-8544-a4c9deded1d9')\"\n",
              "            title=\"Convert this dataframe to an interactive table.\"\n",
              "            style=\"display:none;\">\n",
              "\n",
              "  <svg xmlns=\"http://www.w3.org/2000/svg\" height=\"24px\" viewBox=\"0 -960 960 960\">\n",
              "    <path d=\"M120-120v-720h720v720H120Zm60-500h600v-160H180v160Zm220 220h160v-160H400v160Zm0 220h160v-160H400v160ZM180-400h160v-160H180v160Zm440 0h160v-160H620v160ZM180-180h160v-160H180v160Zm440 0h160v-160H620v160Z\"/>\n",
              "  </svg>\n",
              "    </button>\n",
              "\n",
              "  <style>\n",
              "    .colab-df-container {\n",
              "      display:flex;\n",
              "      gap: 12px;\n",
              "    }\n",
              "\n",
              "    .colab-df-convert {\n",
              "      background-color: #E8F0FE;\n",
              "      border: none;\n",
              "      border-radius: 50%;\n",
              "      cursor: pointer;\n",
              "      display: none;\n",
              "      fill: #1967D2;\n",
              "      height: 32px;\n",
              "      padding: 0 0 0 0;\n",
              "      width: 32px;\n",
              "    }\n",
              "\n",
              "    .colab-df-convert:hover {\n",
              "      background-color: #E2EBFA;\n",
              "      box-shadow: 0px 1px 2px rgba(60, 64, 67, 0.3), 0px 1px 3px 1px rgba(60, 64, 67, 0.15);\n",
              "      fill: #174EA6;\n",
              "    }\n",
              "\n",
              "    .colab-df-buttons div {\n",
              "      margin-bottom: 4px;\n",
              "    }\n",
              "\n",
              "    [theme=dark] .colab-df-convert {\n",
              "      background-color: #3B4455;\n",
              "      fill: #D2E3FC;\n",
              "    }\n",
              "\n",
              "    [theme=dark] .colab-df-convert:hover {\n",
              "      background-color: #434B5C;\n",
              "      box-shadow: 0px 1px 3px 1px rgba(0, 0, 0, 0.15);\n",
              "      filter: drop-shadow(0px 1px 2px rgba(0, 0, 0, 0.3));\n",
              "      fill: #FFFFFF;\n",
              "    }\n",
              "  </style>\n",
              "\n",
              "    <script>\n",
              "      const buttonEl =\n",
              "        document.querySelector('#df-6cc26a88-aed6-4c5b-8544-a4c9deded1d9 button.colab-df-convert');\n",
              "      buttonEl.style.display =\n",
              "        google.colab.kernel.accessAllowed ? 'block' : 'none';\n",
              "\n",
              "      async function convertToInteractive(key) {\n",
              "        const element = document.querySelector('#df-6cc26a88-aed6-4c5b-8544-a4c9deded1d9');\n",
              "        const dataTable =\n",
              "          await google.colab.kernel.invokeFunction('convertToInteractive',\n",
              "                                                    [key], {});\n",
              "        if (!dataTable) return;\n",
              "\n",
              "        const docLinkHtml = 'Like what you see? Visit the ' +\n",
              "          '<a target=\"_blank\" href=https://colab.research.google.com/notebooks/data_table.ipynb>data table notebook</a>'\n",
              "          + ' to learn more about interactive tables.';\n",
              "        element.innerHTML = '';\n",
              "        dataTable['output_type'] = 'display_data';\n",
              "        await google.colab.output.renderOutput(dataTable, element);\n",
              "        const docLink = document.createElement('div');\n",
              "        docLink.innerHTML = docLinkHtml;\n",
              "        element.appendChild(docLink);\n",
              "      }\n",
              "    </script>\n",
              "  </div>\n",
              "\n",
              "\n",
              "    <div id=\"df-e46bac8b-6895-445a-96e2-390338961603\">\n",
              "      <button class=\"colab-df-quickchart\" onclick=\"quickchart('df-e46bac8b-6895-445a-96e2-390338961603')\"\n",
              "                title=\"Suggest charts\"\n",
              "                style=\"display:none;\">\n",
              "\n",
              "<svg xmlns=\"http://www.w3.org/2000/svg\" height=\"24px\"viewBox=\"0 0 24 24\"\n",
              "     width=\"24px\">\n",
              "    <g>\n",
              "        <path d=\"M19 3H5c-1.1 0-2 .9-2 2v14c0 1.1.9 2 2 2h14c1.1 0 2-.9 2-2V5c0-1.1-.9-2-2-2zM9 17H7v-7h2v7zm4 0h-2V7h2v10zm4 0h-2v-4h2v4z\"/>\n",
              "    </g>\n",
              "</svg>\n",
              "      </button>\n",
              "\n",
              "<style>\n",
              "  .colab-df-quickchart {\n",
              "      --bg-color: #E8F0FE;\n",
              "      --fill-color: #1967D2;\n",
              "      --hover-bg-color: #E2EBFA;\n",
              "      --hover-fill-color: #174EA6;\n",
              "      --disabled-fill-color: #AAA;\n",
              "      --disabled-bg-color: #DDD;\n",
              "  }\n",
              "\n",
              "  [theme=dark] .colab-df-quickchart {\n",
              "      --bg-color: #3B4455;\n",
              "      --fill-color: #D2E3FC;\n",
              "      --hover-bg-color: #434B5C;\n",
              "      --hover-fill-color: #FFFFFF;\n",
              "      --disabled-bg-color: #3B4455;\n",
              "      --disabled-fill-color: #666;\n",
              "  }\n",
              "\n",
              "  .colab-df-quickchart {\n",
              "    background-color: var(--bg-color);\n",
              "    border: none;\n",
              "    border-radius: 50%;\n",
              "    cursor: pointer;\n",
              "    display: none;\n",
              "    fill: var(--fill-color);\n",
              "    height: 32px;\n",
              "    padding: 0;\n",
              "    width: 32px;\n",
              "  }\n",
              "\n",
              "  .colab-df-quickchart:hover {\n",
              "    background-color: var(--hover-bg-color);\n",
              "    box-shadow: 0 1px 2px rgba(60, 64, 67, 0.3), 0 1px 3px 1px rgba(60, 64, 67, 0.15);\n",
              "    fill: var(--button-hover-fill-color);\n",
              "  }\n",
              "\n",
              "  .colab-df-quickchart-complete:disabled,\n",
              "  .colab-df-quickchart-complete:disabled:hover {\n",
              "    background-color: var(--disabled-bg-color);\n",
              "    fill: var(--disabled-fill-color);\n",
              "    box-shadow: none;\n",
              "  }\n",
              "\n",
              "  .colab-df-spinner {\n",
              "    border: 2px solid var(--fill-color);\n",
              "    border-color: transparent;\n",
              "    border-bottom-color: var(--fill-color);\n",
              "    animation:\n",
              "      spin 1s steps(1) infinite;\n",
              "  }\n",
              "\n",
              "  @keyframes spin {\n",
              "    0% {\n",
              "      border-color: transparent;\n",
              "      border-bottom-color: var(--fill-color);\n",
              "      border-left-color: var(--fill-color);\n",
              "    }\n",
              "    20% {\n",
              "      border-color: transparent;\n",
              "      border-left-color: var(--fill-color);\n",
              "      border-top-color: var(--fill-color);\n",
              "    }\n",
              "    30% {\n",
              "      border-color: transparent;\n",
              "      border-left-color: var(--fill-color);\n",
              "      border-top-color: var(--fill-color);\n",
              "      border-right-color: var(--fill-color);\n",
              "    }\n",
              "    40% {\n",
              "      border-color: transparent;\n",
              "      border-right-color: var(--fill-color);\n",
              "      border-top-color: var(--fill-color);\n",
              "    }\n",
              "    60% {\n",
              "      border-color: transparent;\n",
              "      border-right-color: var(--fill-color);\n",
              "    }\n",
              "    80% {\n",
              "      border-color: transparent;\n",
              "      border-right-color: var(--fill-color);\n",
              "      border-bottom-color: var(--fill-color);\n",
              "    }\n",
              "    90% {\n",
              "      border-color: transparent;\n",
              "      border-bottom-color: var(--fill-color);\n",
              "    }\n",
              "  }\n",
              "</style>\n",
              "\n",
              "      <script>\n",
              "        async function quickchart(key) {\n",
              "          const quickchartButtonEl =\n",
              "            document.querySelector('#' + key + ' button');\n",
              "          quickchartButtonEl.disabled = true;  // To prevent multiple clicks.\n",
              "          quickchartButtonEl.classList.add('colab-df-spinner');\n",
              "          try {\n",
              "            const charts = await google.colab.kernel.invokeFunction(\n",
              "                'suggestCharts', [key], {});\n",
              "          } catch (error) {\n",
              "            console.error('Error during call to suggestCharts:', error);\n",
              "          }\n",
              "          quickchartButtonEl.classList.remove('colab-df-spinner');\n",
              "          quickchartButtonEl.classList.add('colab-df-quickchart-complete');\n",
              "        }\n",
              "        (() => {\n",
              "          let quickchartButtonEl =\n",
              "            document.querySelector('#df-e46bac8b-6895-445a-96e2-390338961603 button');\n",
              "          quickchartButtonEl.style.display =\n",
              "            google.colab.kernel.accessAllowed ? 'block' : 'none';\n",
              "        })();\n",
              "      </script>\n",
              "    </div>\n",
              "\n",
              "    </div>\n",
              "  </div>\n"
            ],
            "application/vnd.google.colaboratory.intrinsic+json": {
              "type": "dataframe",
              "variable_name": "X",
              "summary": "{\n  \"name\": \"X\",\n  \"rows\": 100,\n  \"fields\": [\n    {\n      \"column\": \"intercept\",\n      \"properties\": {\n        \"dtype\": \"number\",\n        \"std\": 0,\n        \"min\": 1,\n        \"max\": 1,\n        \"num_unique_values\": 1,\n        \"samples\": [\n          1\n        ],\n        \"semantic_type\": \"\",\n        \"description\": \"\"\n      }\n    },\n    {\n      \"column\": \"parent_sleep\",\n      \"properties\": {\n        \"dtype\": \"number\",\n        \"std\": 1.0158844283269488,\n        \"min\": 4.84,\n        \"max\": 9.0,\n        \"num_unique_values\": 90,\n        \"samples\": [\n          7.47\n        ],\n        \"semantic_type\": \"\",\n        \"description\": \"\"\n      }\n    }\n  ]\n}"
            }
          },
          "metadata": {},
          "execution_count": 19
        }
      ],
      "source": [
        "X = pd.DataFrame({'intercept': 1, 'parent_sleep': df.parent_sleep})\n",
        "X.head(n=3)"
      ]
    },
    {
      "cell_type": "markdown",
      "metadata": {
        "id": "0Zvdh3uSohIN"
      },
      "source": [
        "Let's now do all of the remaining calculations, one step at a time."
      ]
    },
    {
      "cell_type": "code",
      "execution_count": 20,
      "metadata": {
        "colab": {
          "base_uri": "https://localhost:8080/"
        },
        "id": "KJxmomIhohIN",
        "outputId": "44755a62-a9c2-4e84-df61-f62a27eb7172"
      },
      "outputs": [
        {
          "output_type": "execute_result",
          "data": {
            "text/plain": [
              "array([125.95629163,  -8.93675582])"
            ]
          },
          "metadata": {},
          "execution_count": 20
        }
      ],
      "source": [
        "# Calculate X^T X\n",
        "XtX = np.dot(X.T, X)\n",
        "\n",
        "# Then the inverse of X^T X\n",
        "XtX_inv = np.linalg.inv(XtX)\n",
        "\n",
        "# Then X^T y\n",
        "Xty = np.dot(X.T, df.parent_grumpy)\n",
        "\n",
        "# And lastly the coefficients\n",
        "betas = np.dot(XtX_inv, Xty)\n",
        "betas"
      ]
    },
    {
      "cell_type": "markdown",
      "metadata": {
        "id": "j_9AEj8DohIN"
      },
      "source": [
        "While the linear algebra approach is useful for understanding the underlying math from another point of view, it not immediately intuitive why it works. The following diagram is maybe the best attempt at trying to explain the intuition behind this linear algebra approach.\n",
        "\n",
        "![projection](https://github.com/sgeinitz/CS3120/blob/main/images/projection.png?raw=true)\n",
        "\n",
        "That image is telling us that the any prediction coming out of our model is going to be in the column space of $X$ (i.e. it will lay in a space that spanned by all possible linear combinations of the columns of $X$.) It is not super important that you know this, but it's a fun alternative way to see how linear regression models are fit to their data.\n",
        "\n",
        "The more intuitive way to explain how we fit a linear regression model is by looking more precisely at that quantity we want to minimize, namely the SSE:\n",
        "$$\\text{SSE} = \\sum_{i=1}^{n} (y_i - \\hat{y}_i)^2$$\n",
        "\n",
        "Recall that since $\\hat{y}_i$ is a the prediction for the $i^{th}$ observation, we can write it as $\\beta_0 + \\beta_1 x_i$, and thus rewrite SSE as:\n",
        "$$\\text{SSE} = \\sum_{i=1}^{n} \\left(y_i - (\\beta_0 + \\beta_1 x_i)\\right)^2$$\n",
        "\n",
        "Since there are two parameters, $\\beta_0, \\beta_1$, it's easy for us to visualize what the SSE looks like as a function of these two parameters. Below is a heatmap or surface plot of these. Again, to train the model we need to find the model parameter values that minimize SSE. Look at the plot below to see if you can roughly guess what the parameter values are."
      ]
    },
    {
      "cell_type": "code",
      "execution_count": 21,
      "metadata": {
        "colab": {
          "base_uri": "https://localhost:8080/",
          "height": 845
        },
        "id": "wVLB88O0ohIN",
        "outputId": "1eea083b-042d-4ecb-a224-e47d5b161bc5"
      },
      "outputs": [
        {
          "output_type": "display_data",
          "data": {
            "text/plain": [
              "<Figure size 1000x800 with 2 Axes>"
            ],
            "image/png": "[encoded data removed]"
          },
          "metadata": {}
        }
      ],
      "source": [
        "beta0_range = 25\n",
        "beta0 = np.arange(lm.intercept_+beta0_range, lm.intercept_-beta0_range, -0.5)\n",
        "beta1_range = 4\n",
        "beta1 = np.arange(lm.coef_[0]-beta1_range, lm.coef_[0]+beta1_range, 0.1)\n",
        "surf = np.array( [[np.square(df.parent_grumpy - (beta0[i] + beta1[j]*df.parent_sleep)).sum() for j in range(len(beta1))] for i in range(len(beta0))] )\n",
        "df_surf = pd.DataFrame(surf, columns=beta1, index=beta0)\n",
        "\n",
        "fig, ax = plt.subplots(figsize=(10, 8))\n",
        "sns.heatmap(df_surf, cbar_kws={'label': 'SSE'}, cmap=\"RdYlGn_r\", ax=ax)\n",
        "ax.contour(np.arange(.5, df_surf.shape[1]), np.arange(.5, df_surf.shape[0]), df_surf, colors='black', levels=[1960, 9000, 50000, 150000], linewidths=0.5)\n",
        "\n",
        "plt.xlabel(\"beta1\")\n",
        "plt.ylabel(\"beta0\")\n",
        "plt.show()\n"
      ]
    },
    {
      "cell_type": "markdown",
      "metadata": {
        "id": "QBQSuK7cohIN"
      },
      "source": [
        "You probably already figured out how to find the parameter values above, which is to look at the values of $beta_0$ and $\\beta_1$ that corresponded to the lowest point on the surface. We can look the data used in the plot and see here."
      ]
    },
    {
      "cell_type": "code",
      "execution_count": 22,
      "metadata": {
        "colab": {
          "base_uri": "https://localhost:8080/"
        },
        "id": "CxoYSTIkohIN",
        "outputId": "8e84e065-c815-4e89-d043-5ba54985036d"
      },
      "outputs": [
        {
          "output_type": "execute_result",
          "data": {
            "text/plain": [
              "(np.float64(125.95629163351282), np.float64(-8.936755819432742))"
            ]
          },
          "metadata": {},
          "execution_count": 22
        }
      ],
      "source": [
        "# find the minimum of the surface\n",
        "beta0_min, beta1_min = np.unravel_index(surf.argmin(), surf.shape)\n",
        "beta0[beta0_min], beta1[beta1_min]"
      ]
    },
    {
      "cell_type": "markdown",
      "metadata": {
        "id": "GUH6QiXjohIN"
      },
      "source": [
        "Notice that those values are nearly exactly what we found using **statsmodels**, **sklearn**, as well as the linear algebra approach. Let's try one more way of finding these parameter values now. For this we'll use calculus to solve for values of $\\beta_0$ and $\\beta_1$ that give us the minimum on the surface above (i.e. the value where the slope of the surface is zero).\n",
        "\n",
        "If you recall from Calculus class, we simply need to write the SSE as a function of the model parameters, $\\beta_0$, $\\beta_1$, and set it to zero, then solve. It's not important that you know how to do this exactly, but it's important to know that this is yet another way to think about \"_training_\" a linear regression model. Let's first explicitly state that the SSE is a function of the model parameters:\n",
        "$$\\text{SSE}(\\beta_0, \\beta_1) = \\sum_{i=1}^{n} \\left( y_i - (\\beta_0 + \\beta_1 x_i) \\right)^2$$\n"
      ]
    },
    {
      "cell_type": "markdown",
      "metadata": {
        "id": "ISJbjpVyohIN"
      },
      "source": [
        "Steps to Solve for $\\beta_0$ and $\\beta_1$ Using Calculus\n",
        "\n",
        "1. Partial Derivatives\n",
        "   - To minimize SSE, take the partial derivatives of SSE with respect to $\\beta_0$ and $\\beta_1$, and set them equal to zero.\n",
        "\n",
        "   Partial Derivative with respect to $\\beta_0$:\n",
        "   $$\\frac{\\partial \\text{SSE}}{\\partial \\beta_0} = \\sum_{i=1}^{n} -2 \\cdot \\left( y_i - \\beta_0 - \\beta_1 \\cdot x_i \\right) = 0$$\n",
        "\n",
        "   Partial Derivative with respect to $\\beta_1$:\n",
        "   $$\\frac{\\partial \\text{SSE}}{\\partial \\beta_1} = \\sum_{i=1}^{n} -2 \\cdot x_i \\cdot \\left( y_i - \\beta_0 - \\beta_1 \\cdot x_i \\right) = 0$$\n",
        "\n",
        "2. Simplify the Equations\n",
        "   - Simplify the partial derivative equations to form two normal equations.\n",
        "\n",
        "   For $\\beta_0$:\n",
        "   $$\\sum_{i=1}^{n} \\left( y_i - \\beta_0 - \\beta_1 \\cdot x_i \\right) = 0$$\n",
        "   - Expanding and beginning to isolate $\\beta_0$, we get:\n",
        "   $$\\sum_{i=1}^{n} y_i - n \\cdot \\beta_0 + \\beta_1 \\sum_{i=1}^{n} x_i = 0 \\quad \\rightarrow \\quad n \\cdot \\beta_0 = \\sum_{i=1}^{n} y_i -\\beta_1 \\cdot \\sum_{i=1}^{n} x_i $$\n",
        "   - Divide by $n$ to get:\n",
        "   $$\\beta_0 = \\bar{y} - \\beta_1 \\cdot \\bar{x}$$\n",
        "   where $\\bar{y} = \\frac{1}{n} \\sum_{i=1}^{n} y_i$ and $\\bar{x} = \\frac{1}{n} \\sum_{i=1}^{n} x_i$ are the means of $y$ and $x$, respectively.\n",
        "\n",
        "   For $\\beta_1$:\n",
        "   $$\\sum_{i=1}^{n} x_i \\cdot y_i = \\beta_0 \\cdot \\sum_{i=1}^{n} x_i + \\beta_1 \\cdot \\sum_{i=1}^{n} x_i^2$$\n",
        "   - Substitute $\\beta_0 = \\bar{y} - \\beta_1 \\cdot \\bar{x}$ into this equation:\n",
        "   $$\\sum_{i=1}^{n} x_i \\cdot y_i = (\\bar{y} - \\beta_1 \\cdot \\bar{x}) \\cdot \\sum_{i=1}^{n} x_i + \\beta_1 \\cdot \\sum_{i=1}^{n} x_i^2$$\n",
        "   - After expanding and simplifying:\n",
        "   $$\\beta_1 = \\frac{\\sum_{i=1}^{n} \\left( x_i - \\bar{x} \\right) \\left( y_i - \\bar{y} \\right)}{\\sum_{i=1}^{n} \\left( x_i - \\bar{x} \\right)^2}$$\n",
        "\n",
        "Let's now use these formulas to \"train\" the model (i.e. calculate the values of the parameters $\\beta_0$, $\\beta_1$) for our given training dataset.\n"
      ]
    },
    {
      "cell_type": "code",
      "execution_count": 23,
      "metadata": {
        "colab": {
          "base_uri": "https://localhost:8080/"
        },
        "id": "7bcK39_eohIN",
        "outputId": "ae6595b4-3e69-4b2a-b1fc-cc823802ae0d"
      },
      "outputs": [
        {
          "output_type": "execute_result",
          "data": {
            "text/plain": [
              "(np.float64(125.9562916335128), np.float64(-8.936755819432724))"
            ]
          },
          "metadata": {},
          "execution_count": 23
        }
      ],
      "source": [
        "n = df.shape[0] # this is the number of observations or training examples\n",
        "b1_numerator = np.sum((df.parent_grumpy - df.parent_grumpy.mean()) * (df.parent_sleep - df.parent_sleep.mean()))\n",
        "b1_denominator = np.sum((df.parent_sleep - df.parent_sleep.mean()) ** 2)\n",
        "beta1_hat = b1_numerator / b1_denominator\n",
        "\n",
        "beta0_hat = df.parent_grumpy.mean() - beta1_hat * df.parent_sleep.mean()\n",
        "(beta0_hat, beta1_hat)"
      ]
    },
    {
      "cell_type": "markdown",
      "metadata": {
        "id": "husxamErohIO"
      },
      "source": [
        "As you can see, those values are the exact same as we found earlier. You may have noticed that the formulas we found for $\\beta_0$ and $\\beta_1$ above contain some terms that look similar to variance and covariance calculations. Given that, we could also calculate these values in a more concise manner using **numpy's** functions for these descriptive statistics."
      ]
    },
    {
      "cell_type": "code",
      "execution_count": 24,
      "metadata": {
        "colab": {
          "base_uri": "https://localhost:8080/"
        },
        "id": "T4GzRBhSohIO",
        "outputId": "fe23f8fc-369c-471c-e459-8a5907bfea27"
      },
      "outputs": [
        {
          "output_type": "execute_result",
          "data": {
            "text/plain": [
              "(np.float64(125.95629163351283), np.float64(-8.936755819432728))"
            ]
          },
          "metadata": {},
          "execution_count": 24
        }
      ],
      "source": [
        "cov = np.cov(df.parent_sleep, df.parent_grumpy, ddof=0) # calculate the covariance of x=df.parent_sleep and y=df.parent_grumpy\n",
        "var_x = np.var(df.parent_sleep, ddof=0) # calculate the variance of x=df.parent_sleep\n",
        "\n",
        "beta1_hat = cov[0,1] / var_x\n",
        "beta0_hat = df.parent_grumpy.mean() - beta1_hat * df.parent_sleep.mean()\n",
        "(beta0_hat, beta1_hat)"
      ]
    },
    {
      "cell_type": "markdown",
      "metadata": {
        "id": "FLDxqKE2ohIO"
      },
      "source": [
        "Hopefully it is somewhat satisfying to see that regardless of the approach we used, we still come up with the same model fit (i.e. the model parameters have the same values). We won't look at them here, but there are even more ways to state these formulas, including with the correlation between $x$ and $y$.\n",
        "\n",
        "Next, let's assume that when the data was collected, the amount of sleep a parent had was recorded in minuts. The cell below creates this column, `parent_sleep_minutes`. Use this for the following question."
      ]
    },
    {
      "cell_type": "code",
      "execution_count": 25,
      "metadata": {
        "colab": {
          "base_uri": "https://localhost:8080/",
          "height": 335
        },
        "id": "3isvE8sdohIO",
        "outputId": "e50be22f-a219-4f74-f142-d839d3436121"
      },
      "outputs": [
        {
          "output_type": "execute_result",
          "data": {
            "text/plain": [
              "count    100.000000\n",
              "mean     417.912000\n",
              "std       60.953066\n",
              "min      290.400000\n",
              "25%      377.550000\n",
              "50%      421.800000\n",
              "75%      464.400000\n",
              "max      540.000000\n",
              "Name: parent_sleep_minutes, dtype: float64"
            ],
            "text/html": [
              "<div>\n",
              "<style scoped>\n",
              "    .dataframe tbody tr th:only-of-type {\n",
              "        vertical-align: middle;\n",
              "    }\n",
              "\n",
              "    .dataframe tbody tr th {\n",
              "        vertical-align: top;\n",
              "    }\n",
              "\n",
              "    .dataframe thead th {\n",
              "        text-align: right;\n",
              "    }\n",
              "</style>\n",
              "<table border=\"1\" class=\"dataframe\">\n",
              "  <thead>\n",
              "    <tr style=\"text-align: right;\">\n",
              "      <th></th>\n",
              "      <th>parent_sleep_minutes</th>\n",
              "    </tr>\n",
              "  </thead>\n",
              "  <tbody>\n",
              "    <tr>\n",
              "      <th>count</th>\n",
              "      <td>100.000000</td>\n",
              "    </tr>\n",
              "    <tr>\n",
              "      <th>mean</th>\n",
              "      <td>417.912000</td>\n",
              "    </tr>\n",
              "    <tr>\n",
              "      <th>std</th>\n",
              "      <td>60.953066</td>\n",
              "    </tr>\n",
              "    <tr>\n",
              "      <th>min</th>\n",
              "      <td>290.400000</td>\n",
              "    </tr>\n",
              "    <tr>\n",
              "      <th>25%</th>\n",
              "      <td>377.550000</td>\n",
              "    </tr>\n",
              "    <tr>\n",
              "      <th>50%</th>\n",
              "      <td>421.800000</td>\n",
              "    </tr>\n",
              "    <tr>\n",
              "      <th>75%</th>\n",
              "      <td>464.400000</td>\n",
              "    </tr>\n",
              "    <tr>\n",
              "      <th>max</th>\n",
              "      <td>540.000000</td>\n",
              "    </tr>\n",
              "  </tbody>\n",
              "</table>\n",
              "</div><br><label><b>dtype:</b> float64</label>"
            ]
          },
          "metadata": {},
          "execution_count": 25
        }
      ],
      "source": [
        "df['parent_sleep_minutes'] = df['parent_sleep']*60\n",
        "df.parent_sleep_minutes.describe()"
      ]
    },
    {
      "cell_type": "markdown",
      "metadata": {
        "id": "uJCyBknxohIO"
      },
      "source": [
        " ***\n",
        "\n",
        " ### Q6: Fit a new linear regression model with **statsmodels** where `parent_sleep_minutes` is used to predict `parent_grumpy`. Does this affect the model parameter estimates? Are they the same? Or different?\n",
        "\n",
        " \\<modify the code in the cell below and modify it to fit the linear regression model and retrieve the model summary. Then input your here - be sure to state what the grumpiness value the model predicted\n",
        "\n",
        " the intercept is the same, and the slope is also equvilent but has been scaled to reflect the shift from hours to minutes, I would say its the same.\\>\n",
        "\n",
        " ***"
      ]
    },
    {
      "cell_type": "code",
      "execution_count": 28,
      "metadata": {
        "colab": {
          "base_uri": "https://localhost:8080/",
          "height": 147
        },
        "id": "LPAnlN1SohIO",
        "outputId": "1186e560-a550-4be3-a15d-8e672e2c8d09"
      },
      "outputs": [
        {
          "output_type": "execute_result",
          "data": {
            "text/plain": [
              "Intercept               125.956292\n",
              "parent_sleep_minutes     -0.148946\n",
              "dtype: float64"
            ],
            "text/html": [
              "<div>\n",
              "<style scoped>\n",
              "    .dataframe tbody tr th:only-of-type {\n",
              "        vertical-align: middle;\n",
              "    }\n",
              "\n",
              "    .dataframe tbody tr th {\n",
              "        vertical-align: top;\n",
              "    }\n",
              "\n",
              "    .dataframe thead th {\n",
              "        text-align: right;\n",
              "    }\n",
              "</style>\n",
              "<table border=\"1\" class=\"dataframe\">\n",
              "  <thead>\n",
              "    <tr style=\"text-align: right;\">\n",
              "      <th></th>\n",
              "      <th>0</th>\n",
              "    </tr>\n",
              "  </thead>\n",
              "  <tbody>\n",
              "    <tr>\n",
              "      <th>Intercept</th>\n",
              "      <td>125.956292</td>\n",
              "    </tr>\n",
              "    <tr>\n",
              "      <th>parent_sleep_minutes</th>\n",
              "      <td>-0.148946</td>\n",
              "    </tr>\n",
              "  </tbody>\n",
              "</table>\n",
              "</div><br><label><b>dtype:</b> float64</label>"
            ]
          },
          "metadata": {},
          "execution_count": 28
        }
      ],
      "source": [
        "sm_lm_min = smf.ols(formula='parent_grumpy ~ parent_sleep_minutes', data=df).fit()\n",
        "sm_lm_min.params\n"
      ]
    },
    {
      "cell_type": "markdown",
      "metadata": {
        "id": "vRwWqdTzohIO"
      },
      "source": [
        "***\n",
        "\n",
        "### Q7: Does having `parent_sleep` measured in different units affect how well the model fits the data? In other words, is the $R^2$ different from when `parent_sleep` was measured in hours? Also, are the p-values associated with $\\beta_0$, $\\beta_1$ different? What does this tell you about how linear regression models are affected by a variable being scaled?\n",
        "\n",
        "\\<insert a code cell below then use `sm_lm_min.summary()` to retrieve the model summary and then input your answer here\n",
        "\n",
        "The summay confirms my statment that its the same model as before. scaling data did not change anything.\\>\n",
        "\n",
        "***"
      ]
    },
    {
      "cell_type": "code",
      "source": [
        "sm_lm_min.summary()\n"
      ],
      "metadata": {
        "id": "f40PwSWoDI_M",
        "outputId": "70d0dd8d-f8ad-4e5e-851b-625dd85c404f",
        "colab": {
          "base_uri": "https://localhost:8080/",
          "height": 486
        }
      },
      "execution_count": 29,
      "outputs": [
        {
          "output_type": "execute_result",
          "data": {
            "text/plain": [
              "<class 'statsmodels.iolib.summary.Summary'>\n",
              "\"\"\"\n",
              "                            OLS Regression Results                            \n",
              "==============================================================================\n",
              "Dep. Variable:          parent_grumpy   R-squared:                       0.816\n",
              "Model:                            OLS   Adj. R-squared:                  0.814\n",
              "Method:                 Least Squares   F-statistic:                     434.9\n",
              "Date:                Thu, 04 Sep 2025   Prob (F-statistic):           8.18e-38\n",
              "Time:                        09:26:43   Log-Likelihood:                -287.48\n",
              "No. Observations:                 100   AIC:                             579.0\n",
              "Df Residuals:                      98   BIC:                             584.2\n",
              "Df Model:                           1                                         \n",
              "Covariance Type:            nonrobust                                         \n",
              "========================================================================================\n",
              "                           coef    std err          t      P>|t|      [0.025      0.975]\n",
              "----------------------------------------------------------------------------------------\n",
              "Intercept              125.9563      3.016     41.762      0.000     119.971     131.942\n",
              "parent_sleep_minutes    -0.1489      0.007    -20.854      0.000      -0.163      -0.135\n",
              "==============================================================================\n",
              "Omnibus:                        0.597   Durbin-Watson:                   2.121\n",
              "Prob(Omnibus):                  0.742   Jarque-Bera (JB):                0.221\n",
              "Skew:                          -0.054   Prob(JB):                        0.895\n",
              "Kurtosis:                       3.204   Cond. No.                     2.94e+03\n",
              "==============================================================================\n",
              "\n",
              "Notes:\n",
              "[1] Standard Errors assume that the covariance matrix of the errors is correctly specified.\n",
              "[2] The condition number is large, 2.94e+03. This might indicate that there are\n",
              "strong multicollinearity or other numerical problems.\n",
              "\"\"\""
            ],
            "text/html": [
              "<table class=\"simpletable\">\n",
              "<caption>OLS Regression Results</caption>\n",
              "<tr>\n",
              "  <th>Dep. Variable:</th>      <td>parent_grumpy</td>  <th>  R-squared:         </th> <td>   0.816</td>\n",
              "</tr>\n",
              "<tr>\n",
              "  <th>Model:</th>                   <td>OLS</td>       <th>  Adj. R-squared:    </th> <td>   0.814</td>\n",
              "</tr>\n",
              "<tr>\n",
              "  <th>Method:</th>             <td>Least Squares</td>  <th>  F-statistic:       </th> <td>   434.9</td>\n",
              "</tr>\n",
              "<tr>\n",
              "  <th>Date:</th>             <td>Thu, 04 Sep 2025</td> <th>  Prob (F-statistic):</th> <td>8.18e-38</td>\n",
              "</tr>\n",
              "<tr>\n",
              "  <th>Time:</th>                 <td>09:26:43</td>     <th>  Log-Likelihood:    </th> <td> -287.48</td>\n",
              "</tr>\n",
              "<tr>\n",
              "  <th>No. Observations:</th>      <td>   100</td>      <th>  AIC:               </th> <td>   579.0</td>\n",
              "</tr>\n",
              "<tr>\n",
              "  <th>Df Residuals:</th>          <td>    98</td>      <th>  BIC:               </th> <td>   584.2</td>\n",
              "</tr>\n",
              "<tr>\n",
              "  <th>Df Model:</th>              <td>     1</td>      <th>                     </th>     <td> </td>   \n",
              "</tr>\n",
              "<tr>\n",
              "  <th>Covariance Type:</th>      <td>nonrobust</td>    <th>                     </th>     <td> </td>   \n",
              "</tr>\n",
              "</table>\n",
              "<table class=\"simpletable\">\n",
              "<tr>\n",
              "            <td></td>              <th>coef</th>     <th>std err</th>      <th>t</th>      <th>P>|t|</th>  <th>[0.025</th>    <th>0.975]</th>  \n",
              "</tr>\n",
              "<tr>\n",
              "  <th>Intercept</th>            <td>  125.9563</td> <td>    3.016</td> <td>   41.762</td> <td> 0.000</td> <td>  119.971</td> <td>  131.942</td>\n",
              "</tr>\n",
              "<tr>\n",
              "  <th>parent_sleep_minutes</th> <td>   -0.1489</td> <td>    0.007</td> <td>  -20.854</td> <td> 0.000</td> <td>   -0.163</td> <td>   -0.135</td>\n",
              "</tr>\n",
              "</table>\n",
              "<table class=\"simpletable\">\n",
              "<tr>\n",
              "  <th>Omnibus:</th>       <td> 0.597</td> <th>  Durbin-Watson:     </th> <td>   2.121</td>\n",
              "</tr>\n",
              "<tr>\n",
              "  <th>Prob(Omnibus):</th> <td> 0.742</td> <th>  Jarque-Bera (JB):  </th> <td>   0.221</td>\n",
              "</tr>\n",
              "<tr>\n",
              "  <th>Skew:</th>          <td>-0.054</td> <th>  Prob(JB):          </th> <td>   0.895</td>\n",
              "</tr>\n",
              "<tr>\n",
              "  <th>Kurtosis:</th>      <td> 3.204</td> <th>  Cond. No.          </th> <td>2.94e+03</td>\n",
              "</tr>\n",
              "</table><br/><br/>Notes:<br/>[1] Standard Errors assume that the covariance matrix of the errors is correctly specified.<br/>[2] The condition number is large, 2.94e+03. This might indicate that there are<br/>strong multicollinearity or other numerical problems."
            ],
            "text/latex": "\\begin{center}\n\\begin{tabular}{lclc}\n\\toprule\n\\textbf{Dep. Variable:}         &  parent\\_grumpy  & \\textbf{  R-squared:         } &     0.816   \\\\\n\\textbf{Model:}                 &       OLS        & \\textbf{  Adj. R-squared:    } &     0.814   \\\\\n\\textbf{Method:}                &  Least Squares   & \\textbf{  F-statistic:       } &     434.9   \\\\\n\\textbf{Date:}                  & Thu, 04 Sep 2025 & \\textbf{  Prob (F-statistic):} &  8.18e-38   \\\\\n\\textbf{Time:}                  &     09:26:43     & \\textbf{  Log-Likelihood:    } &   -287.48   \\\\\n\\textbf{No. Observations:}      &         100      & \\textbf{  AIC:               } &     579.0   \\\\\n\\textbf{Df Residuals:}          &          98      & \\textbf{  BIC:               } &     584.2   \\\\\n\\textbf{Df Model:}              &           1      & \\textbf{                     } &             \\\\\n\\textbf{Covariance Type:}       &    nonrobust     & \\textbf{                     } &             \\\\\n\\bottomrule\n\\end{tabular}\n\\begin{tabular}{lcccccc}\n                                & \\textbf{coef} & \\textbf{std err} & \\textbf{t} & \\textbf{P$> |$t$|$} & \\textbf{[0.025} & \\textbf{0.975]}  \\\\\n\\midrule\n\\textbf{Intercept}              &     125.9563  &        3.016     &    41.762  &         0.000        &      119.971    &      131.942     \\\\\n\\textbf{parent\\_sleep\\_minutes} &      -0.1489  &        0.007     &   -20.854  &         0.000        &       -0.163    &       -0.135     \\\\\n\\bottomrule\n\\end{tabular}\n\\begin{tabular}{lclc}\n\\textbf{Omnibus:}       &  0.597 & \\textbf{  Durbin-Watson:     } &    2.121  \\\\\n\\textbf{Prob(Omnibus):} &  0.742 & \\textbf{  Jarque-Bera (JB):  } &    0.221  \\\\\n\\textbf{Skew:}          & -0.054 & \\textbf{  Prob(JB):          } &    0.895  \\\\\n\\textbf{Kurtosis:}      &  3.204 & \\textbf{  Cond. No.          } & 2.94e+03  \\\\\n\\bottomrule\n\\end{tabular}\n%\\caption{OLS Regression Results}\n\\end{center}\n\nNotes: \\newline\n [1] Standard Errors assume that the covariance matrix of the errors is correctly specified. \\newline\n [2] The condition number is large, 2.94e+03. This might indicate that there are \\newline\n strong multicollinearity or other numerical problems."
          },
          "metadata": {},
          "execution_count": 29
        }
      ]
    },
    {
      "cell_type": "markdown",
      "metadata": {
        "id": "el5jVC5OohIO"
      },
      "source": [
        "### Multiple Linear Regression\n",
        "\n",
        "What we've looked at so far is commonly referred to as *Simple Linear Regression*, which is when there is one *predictor* (or *feature* or *independent variable*), $x$, and we are trying to predict the *outcome* or *response* or *dependent variable*, $y$. Linear Regression is a powerful and commonly used tool though, so you can imagine that it's not too difficult to add more predictors. Below is an example where we'll try fitting a *Multiple linear Regression* model, which is a linear regression model with more two or more *predictors* (or *features* or *independent variables*).\n",
        "\n",
        "The dataset is a (hypothetical) company's advertising spend and sales they have made for each day. There are four columns in the data:\n",
        "* `tv` - amount of money spent on television advertising last week\n",
        "* `radio` - amount of money spent on radio advertising last week\n",
        "* `newspaper` - amount of money spent on newpaper advertising last week\n",
        "* `sales` - number of widgets (in thousands) the company sold last week"
      ]
    },
    {
      "cell_type": "code",
      "execution_count": null,
      "metadata": {
        "id": "zYpw5OalohIO"
      },
      "outputs": [],
      "source": [
        "df_adv = pd.read_csv('https://raw.githubusercontent.com/sgeinitz/CS3120/main/lab1_data_advertising.csv')\n",
        "df_adv.head()"
      ]
    },
    {
      "cell_type": "markdown",
      "metadata": {
        "id": "M0mz23fGohIO"
      },
      "source": [
        "Let's also get a quick idea of what the data looks like in terms of min, max, mean, etc."
      ]
    },
    {
      "cell_type": "code",
      "execution_count": null,
      "metadata": {
        "id": "lD8-c3rSohIO"
      },
      "outputs": [],
      "source": [
        "df_adv.describe()"
      ]
    },
    {
      "cell_type": "markdown",
      "metadata": {
        "id": "JCW2VP3UohIO"
      },
      "source": [
        "***\n",
        "\n",
        " ### Q8: As we said, any data analysis or modeling task first requires looking at or visualizing the data. Plot the each of the independent variables (`tv`, `radio`, `newspaper`) against the dependent variable, `sales`. Then state which of them you think looks like it going to best predict `sales`.\n",
        "\n",
        "\\<modify the code cell below (the first is done for you) and then input your answer here\\>\n",
        "\n",
        "***\n",
        "\n",
        "If you can, try to put all of the plots together in a single figure."
      ]
    },
    {
      "cell_type": "code",
      "execution_count": null,
      "metadata": {
        "id": "w54gTI-VohIO"
      },
      "outputs": [],
      "source": [
        "# plot all three of the features against sales\n",
        "fig, (ax1, ax2, ax3) = plt.subplots(1, 3, figsize=(15, 5))\n",
        "sns.scatterplot(data=df_adv, x='tv', y='sales', ax=ax1)\n",
        "sns.scatterplot(data=df_adv, x='radio', y='sales', ax=ax2)\n",
        "sns.scatterplot(data=df_adv, x='newspaper', y='sales', ax=ax3)\n",
        "plt.show()\n"
      ]
    },
    {
      "cell_type": "markdown",
      "metadata": {
        "id": "ZlaNMnHcohIP"
      },
      "source": [
        "Next, let's fit a linear regression model using all three variables."
      ]
    },
    {
      "cell_type": "code",
      "execution_count": null,
      "metadata": {
        "id": "oR7GY-L2ohIP"
      },
      "outputs": [],
      "source": [
        "lm_adv = smf.ols(formula='sales ~ tv + radio + newspaper', data=df_adv).fit()\n",
        "lm_adv.summary()"
      ]
    },
    {
      "cell_type": "markdown",
      "metadata": {
        "id": "_P19aba2ohIP"
      },
      "source": [
        "It looks like that model fits pretty well. But, based on the plots you saw above, it looks like there is not an exact linear relationship between `tv` and `sales`...\n",
        "\n",
        "***\n",
        "\n",
        "### Q9: Try fitting a model to this dataset with `radio` and `newspaper` included, but use the square root of `tv`. Then print the summary of the model to see the $R^2$. If you worked for this company, which model do you think you would use? The one above or this new one you created here? Explain why.\n",
        "\n",
        "\\<fix the code cell below to fit the model described above and then input your answer here>\n",
        "\n",
        "***\n",
        "\n",
        "Hints:\n",
        "* Use [this reference](https://www.statsmodels.org/dev/example_formulas.html#functions) to see how to include a function of an independent variable in your model\n",
        "* The function, `np.sqrt( )` is numpy's square root function"
      ]
    },
    {
      "cell_type": "code",
      "execution_count": null,
      "metadata": {
        "id": "RsgYEUB7ohIP"
      },
      "outputs": [],
      "source": [
        "lm_adv = smf.ols(formula='sales ~ ', data=df_adv).fit()\n",
        "lm_adv.summary()"
      ]
    },
    {
      "cell_type": "markdown",
      "metadata": {
        "id": "jbsvjcW6ohIP"
      },
      "source": [
        "Nice work completing this notebook. If you didn't already appreciate the power of linear regression, hopefully this helped convince you in some way. Even though we will use lots of other types of models, you will almost always want to start with linear regression because of its simplicity, stability, and flexibility. We'll always want to use the *right model for the task at hand* though, so we probably don't want to be too much like either of the people below :)\n",
        "\n",
        "![Example Image](https://media.licdn.com/dms/image/v2/D4E22AQFLVt8372oIQA/feedshare-shrink_800/feedshare-shrink_800/0/1710511681665?e=1727308800&v=beta&t=XephAeg6t9otHgyXtIHxbYiAxJdKOkH0uP0pU9eP2oY)\n"
      ]
    }
  ],
  "metadata": {
    "kernelspec": {
      "display_name": "Python 3 (ipykernel)",
      "language": "python",
      "name": "python3"
    },
    "language_info": {
      "codemirror_mode": {
        "name": "ipython",
        "version": 3
      },
      "file_extension": ".py",
      "mimetype": "text/x-python",
      "name": "python",
      "nbconvert_exporter": "python",
      "pygments_lexer": "ipython3",
      "version": "3.12.4"
    },
    "toc": {
      "base_numbering": 1,
      "nav_menu": {},
      "number_sections": true,
      "sideBar": true,
      "skip_h1_title": false,
      "title_cell": "Table of Contents",
      "title_sidebar": "Contents",
      "toc_cell": false,
      "toc_position": {},
      "toc_section_display": true,
      "toc_window_display": false
    },
    "colab": {
      "provenance": []
    },
    "widgets": {
      "application/vnd.jupyter.widget-state+json": {
        "8cda941299c443898c1914691e43f4a7": {
          "model_module": "@jupyter-widgets/controls",
          "model_name": "VBoxModel",
          "model_module_version": "1.5.0",
          "state": {
            "_dom_classes": [
              "widget-interact"
            ],
            "_model_module": "@jupyter-widgets/controls",
            "_model_module_version": "1.5.0",
            "_model_name": "VBoxModel",
            "_view_count": null,
            "_view_module": "@jupyter-widgets/controls",
            "_view_module_version": "1.5.0",
            "_view_name": "VBoxView",
            "box_style": "",
            "children": [
              "IPY_MODEL_57ce9e5415b945e183583d8f3cea1de5",
              "IPY_MODEL_93067a4d6f0846d6b3179d1110fc9a91",
              "IPY_MODEL_3251c33fb80f4bdab979913f89c01b9f"
            ],
            "layout": "IPY_MODEL_e68aa3d789d54edda9f35a9d55e921d3"
          }
        },
        "57ce9e5415b945e183583d8f3cea1de5": {
          "model_module": "@jupyter-widgets/controls",
          "model_name": "IntSliderModel",
          "model_module_version": "1.5.0",
          "state": {
            "_dom_classes": [],
            "_model_module": "@jupyter-widgets/controls",
            "_model_module_version": "1.5.0",
            "_model_name": "IntSliderModel",
            "_view_count": null,
            "_view_module": "@jupyter-widgets/controls",
            "_view_module_version": "1.5.0",
            "_view_name": "IntSliderView",
            "continuous_update": true,
            "description": "slope",
            "description_tooltip": null,
            "disabled": false,
            "layout": "IPY_MODEL_2a8bec9df1e945f0b8b9e2ef4b867eeb",
            "max": 20,
            "min": -20,
            "orientation": "horizontal",
            "readout": true,
            "readout_format": "d",
            "step": 1,
            "style": "IPY_MODEL_d1dbc968e59a4460a8f35df410a01bdd",
            "value": -10
          }
        },
        "93067a4d6f0846d6b3179d1110fc9a91": {
          "model_module": "@jupyter-widgets/controls",
          "model_name": "IntSliderModel",
          "model_module_version": "1.5.0",
          "state": {
            "_dom_classes": [],
            "_model_module": "@jupyter-widgets/controls",
            "_model_module_version": "1.5.0",
            "_model_name": "IntSliderModel",
            "_view_count": null,
            "_view_module": "@jupyter-widgets/controls",
            "_view_module_version": "1.5.0",
            "_view_name": "IntSliderView",
            "continuous_update": true,
            "description": "intercept",
            "description_tooltip": null,
            "disabled": false,
            "layout": "IPY_MODEL_71ceb52fc6f54134b801bbca12ba99b1",
            "max": 200,
            "min": 0,
            "orientation": "horizontal",
            "readout": true,
            "readout_format": "d",
            "step": 1,
            "style": "IPY_MODEL_4c203c7d47ac4e208671933139403025",
            "value": 134
          }
        },
        "3251c33fb80f4bdab979913f89c01b9f": {
          "model_module": "@jupyter-widgets/output",
          "model_name": "OutputModel",
          "model_module_version": "1.0.0",
          "state": {
            "_dom_classes": [],
            "_model_module": "@jupyter-widgets/output",
            "_model_module_version": "1.0.0",
            "_model_name": "OutputModel",
            "_view_count": null,
            "_view_module": "@jupyter-widgets/output",
            "_view_module_version": "1.0.0",
            "_view_name": "OutputView",
            "layout": "IPY_MODEL_e6229455add44b698771f20776424c4e",
            "msg_id": "",
            "outputs": [
              {
                "output_type": "display_data",
                "data": {
                  "text/plain": "<Figure size 900x600 with 1 Axes>",
                  "image/png": "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\n"
                },
                "metadata": {}
              }
            ]
          }
        },
        "e68aa3d789d54edda9f35a9d55e921d3": {
          "model_module": "@jupyter-widgets/base",
          "model_name": "LayoutModel",
          "model_module_version": "1.2.0",
          "state": {
            "_model_module": "@jupyter-widgets/base",
            "_model_module_version": "1.2.0",
            "_model_name": "LayoutModel",
            "_view_count": null,
            "_view_module": "@jupyter-widgets/base",
            "_view_module_version": "1.2.0",
            "_view_name": "LayoutView",
            "align_content": null,
            "align_items": null,
            "align_self": null,
            "border": null,
            "bottom": null,
            "display": null,
            "flex": null,
            "flex_flow": null,
            "grid_area": null,
            "grid_auto_columns": null,
            "grid_auto_flow": null,
            "grid_auto_rows": null,
            "grid_column": null,
            "grid_gap": null,
            "grid_row": null,
            "grid_template_areas": null,
            "grid_template_columns": null,
            "grid_template_rows": null,
            "height": null,
            "justify_content": null,
            "justify_items": null,
            "left": null,
            "margin": null,
            "max_height": null,
            "max_width": null,
            "min_height": null,
            "min_width": null,
            "object_fit": null,
            "object_position": null,
            "order": null,
            "overflow": null,
            "overflow_x": null,
            "overflow_y": null,
            "padding": null,
            "right": null,
            "top": null,
            "visibility": null,
            "width": null
          }
        },
        "2a8bec9df1e945f0b8b9e2ef4b867eeb": {
          "model_module": "@jupyter-widgets/base",
          "model_name": "LayoutModel",
          "model_module_version": "1.2.0",
          "state": {
            "_model_module": "@jupyter-widgets/base",
            "_model_module_version": "1.2.0",
            "_model_name": "LayoutModel",
            "_view_count": null,
            "_view_module": "@jupyter-widgets/base",
            "_view_module_version": "1.2.0",
            "_view_name": "LayoutView",
            "align_content": null,
            "align_items": null,
            "align_self": null,
            "border": null,
            "bottom": null,
            "display": null,
            "flex": null,
            "flex_flow": null,
            "grid_area": null,
            "grid_auto_columns": null,
            "grid_auto_flow": null,
            "grid_auto_rows": null,
            "grid_column": null,
            "grid_gap": null,
            "grid_row": null,
            "grid_template_areas": null,
            "grid_template_columns": null,
            "grid_template_rows": null,
            "height": null,
            "justify_content": null,
            "justify_items": null,
            "left": null,
            "margin": null,
            "max_height": null,
            "max_width": null,
            "min_height": null,
            "min_width": null,
            "object_fit": null,
            "object_position": null,
            "order": null,
            "overflow": null,
            "overflow_x": null,
            "overflow_y": null,
            "padding": null,
            "right": null,
            "top": null,
            "visibility": null,
            "width": null
          }
        },
        "d1dbc968e59a4460a8f35df410a01bdd": {
          "model_module": "@jupyter-widgets/controls",
          "model_name": "SliderStyleModel",
          "model_module_version": "1.5.0",
          "state": {
            "_model_module": "@jupyter-widgets/controls",
            "_model_module_version": "1.5.0",
            "_model_name": "SliderStyleModel",
            "_view_count": null,
            "_view_module": "@jupyter-widgets/base",
            "_view_module_version": "1.2.0",
            "_view_name": "StyleView",
            "description_width": "",
            "handle_color": null
          }
        },
        "71ceb52fc6f54134b801bbca12ba99b1": {
          "model_module": "@jupyter-widgets/base",
          "model_name": "LayoutModel",
          "model_module_version": "1.2.0",
          "state": {
            "_model_module": "@jupyter-widgets/base",
            "_model_module_version": "1.2.0",
            "_model_name": "LayoutModel",
            "_view_count": null,
            "_view_module": "@jupyter-widgets/base",
            "_view_module_version": "1.2.0",
            "_view_name": "LayoutView",
            "align_content": null,
            "align_items": null,
            "align_self": null,
            "border": null,
            "bottom": null,
            "display": null,
            "flex": null,
            "flex_flow": null,
            "grid_area": null,
            "grid_auto_columns": null,
            "grid_auto_flow": null,
            "grid_auto_rows": null,
            "grid_column": null,
            "grid_gap": null,
            "grid_row": null,
            "grid_template_areas": null,
            "grid_template_columns": null,
            "grid_template_rows": null,
            "height": null,
            "justify_content": null,
            "justify_items": null,
            "left": null,
            "margin": null,
            "max_height": null,
            "max_width": null,
            "min_height": null,
            "min_width": null,
            "object_fit": null,
            "object_position": null,
            "order": null,
            "overflow": null,
            "overflow_x": null,
            "overflow_y": null,
            "padding": null,
            "right": null,
            "top": null,
            "visibility": null,
            "width": null
          }
        },
        "4c203c7d47ac4e208671933139403025": {
          "model_module": "@jupyter-widgets/controls",
          "model_name": "SliderStyleModel",
          "model_module_version": "1.5.0",
          "state": {
            "_model_module": "@jupyter-widgets/controls",
            "_model_module_version": "1.5.0",
            "_model_name": "SliderStyleModel",
            "_view_count": null,
            "_view_module": "@jupyter-widgets/base",
            "_view_module_version": "1.2.0",
            "_view_name": "StyleView",
            "description_width": "",
            "handle_color": null
          }
        },
        "e6229455add44b698771f20776424c4e": {
          "model_module": "@jupyter-widgets/base",
          "model_name": "LayoutModel",
          "model_module_version": "1.2.0",
          "state": {
            "_model_module": "@jupyter-widgets/base",
            "_model_module_version": "1.2.0",
            "_model_name": "LayoutModel",
            "_view_count": null,
            "_view_module": "@jupyter-widgets/base",
            "_view_module_version": "1.2.0",
            "_view_name": "LayoutView",
            "align_content": null,
            "align_items": null,
            "align_self": null,
            "border": null,
            "bottom": null,
            "display": null,
            "flex": null,
            "flex_flow": null,
            "grid_area": null,
            "grid_auto_columns": null,
            "grid_auto_flow": null,
            "grid_auto_rows": null,
            "grid_column": null,
            "grid_gap": null,
            "grid_row": null,
            "grid_template_areas": null,
            "grid_template_columns": null,
            "grid_template_rows": null,
            "height": null,
            "justify_content": null,
            "justify_items": null,
            "left": null,
            "margin": null,
            "max_height": null,
            "max_width": null,
            "min_height": null,
            "min_width": null,
            "object_fit": null,
            "object_position": null,
            "order": null,
            "overflow": null,
            "overflow_x": null,
            "overflow_y": null,
            "padding": null,
            "right": null,
            "top": null,
            "visibility": null,
            "width": null
          }
        },
        "5574d117e7394423a7bfb6afc575abec": {
          "model_module": "@jupyter-widgets/controls",
          "model_name": "VBoxModel",
          "model_module_version": "1.5.0",
          "state": {
            "_dom_classes": [
              "widget-interact"
            ],
            "_model_module": "@jupyter-widgets/controls",
            "_model_module_version": "1.5.0",
            "_model_name": "VBoxModel",
            "_view_count": null,
            "_view_module": "@jupyter-widgets/controls",
            "_view_module_version": "1.5.0",
            "_view_name": "VBoxView",
            "box_style": "",
            "children": [
              "IPY_MODEL_af70da78a34c420295809f8333f58ae8",
              "IPY_MODEL_b465cd927e454124be0b2fb2f6dc13d2",
              "IPY_MODEL_68ce7145cd2445a887a6295a2fb74b8c"
            ],
            "layout": "IPY_MODEL_6c357f1d098042d8898856c7cdeace89"
          }
        },
        "af70da78a34c420295809f8333f58ae8": {
          "model_module": "@jupyter-widgets/controls",
          "model_name": "IntSliderModel",
          "model_module_version": "1.5.0",
          "state": {
            "_dom_classes": [],
            "_model_module": "@jupyter-widgets/controls",
            "_model_module_version": "1.5.0",
            "_model_name": "IntSliderModel",
            "_view_count": null,
            "_view_module": "@jupyter-widgets/controls",
            "_view_module_version": "1.5.0",
            "_view_name": "IntSliderView",
            "continuous_update": true,
            "description": "slope",
            "description_tooltip": null,
            "disabled": false,
            "layout": "IPY_MODEL_d6cb6d67582c42248183f7821f93fabf",
            "max": 20,
            "min": -20,
            "orientation": "horizontal",
            "readout": true,
            "readout_format": "d",
            "step": 1,
            "style": "IPY_MODEL_ea367dc7efbd47608be55a639099dcbc",
            "value": -10
          }
        },
        "b465cd927e454124be0b2fb2f6dc13d2": {
          "model_module": "@jupyter-widgets/controls",
          "model_name": "IntSliderModel",
          "model_module_version": "1.5.0",
          "state": {
            "_dom_classes": [],
            "_model_module": "@jupyter-widgets/controls",
            "_model_module_version": "1.5.0",
            "_model_name": "IntSliderModel",
            "_view_count": null,
            "_view_module": "@jupyter-widgets/controls",
            "_view_module_version": "1.5.0",
            "_view_name": "IntSliderView",
            "continuous_update": true,
            "description": "intercept",
            "description_tooltip": null,
            "disabled": false,
            "layout": "IPY_MODEL_c96c92496b094627b06431da16083f88",
            "max": 200,
            "min": 0,
            "orientation": "horizontal",
            "readout": true,
            "readout_format": "d",
            "step": 1,
            "style": "IPY_MODEL_90a66a0ee2dd4f29b43bc89b3e37e454",
            "value": 132
          }
        },
        "68ce7145cd2445a887a6295a2fb74b8c": {
          "model_module": "@jupyter-widgets/output",
          "model_name": "OutputModel",
          "model_module_version": "1.0.0",
          "state": {
            "_dom_classes": [],
            "_model_module": "@jupyter-widgets/output",
            "_model_module_version": "1.0.0",
            "_model_name": "OutputModel",
            "_view_count": null,
            "_view_module": "@jupyter-widgets/output",
            "_view_module_version": "1.0.0",
            "_view_name": "OutputView",
            "layout": "IPY_MODEL_7150604ce0f944a5b35970bfe6eb2a57",
            "msg_id": "",
            "outputs": [
              {
                "output_type": "display_data",
                "data": {
                  "text/plain": "<Figure size 900x600 with 1 Axes>",
                  "image/png": "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\n"
                },
                "metadata": {}
              }
            ]
          }
        },
        "6c357f1d098042d8898856c7cdeace89": {
          "model_module": "@jupyter-widgets/base",
          "model_name": "LayoutModel",
          "model_module_version": "1.2.0",
          "state": {
            "_model_module": "@jupyter-widgets/base",
            "_model_module_version": "1.2.0",
            "_model_name": "LayoutModel",
            "_view_count": null,
            "_view_module": "@jupyter-widgets/base",
            "_view_module_version": "1.2.0",
            "_view_name": "LayoutView",
            "align_content": null,
            "align_items": null,
            "align_self": null,
            "border": null,
            "bottom": null,
            "display": null,
            "flex": null,
            "flex_flow": null,
            "grid_area": null,
            "grid_auto_columns": null,
            "grid_auto_flow": null,
            "grid_auto_rows": null,
            "grid_column": null,
            "grid_gap": null,
            "grid_row": null,
            "grid_template_areas": null,
            "grid_template_columns": null,
            "grid_template_rows": null,
            "height": null,
            "justify_content": null,
            "justify_items": null,
            "left": null,
            "margin": null,
            "max_height": null,
            "max_width": null,
            "min_height": null,
            "min_width": null,
            "object_fit": null,
            "object_position": null,
            "order": null,
            "overflow": null,
            "overflow_x": null,
            "overflow_y": null,
            "padding": null,
            "right": null,
            "top": null,
            "visibility": null,
            "width": null
          }
        },
        "d6cb6d67582c42248183f7821f93fabf": {
          "model_module": "@jupyter-widgets/base",
          "model_name": "LayoutModel",
          "model_module_version": "1.2.0",
          "state": {
            "_model_module": "@jupyter-widgets/base",
            "_model_module_version": "1.2.0",
            "_model_name": "LayoutModel",
            "_view_count": null,
            "_view_module": "@jupyter-widgets/base",
            "_view_module_version": "1.2.0",
            "_view_name": "LayoutView",
            "align_content": null,
            "align_items": null,
            "align_self": null,
            "border": null,
            "bottom": null,
            "display": null,
            "flex": null,
            "flex_flow": null,
            "grid_area": null,
            "grid_auto_columns": null,
            "grid_auto_flow": null,
            "grid_auto_rows": null,
            "grid_column": null,
            "grid_gap": null,
            "grid_row": null,
            "grid_template_areas": null,
            "grid_template_columns": null,
            "grid_template_rows": null,
            "height": null,
            "justify_content": null,
            "justify_items": null,
            "left": null,
            "margin": null,
            "max_height": null,
            "max_width": null,
            "min_height": null,
            "min_width": null,
            "object_fit": null,
            "object_position": null,
            "order": null,
            "overflow": null,
            "overflow_x": null,
            "overflow_y": null,
            "padding": null,
            "right": null,
            "top": null,
            "visibility": null,
            "width": null
          }
        },
        "ea367dc7efbd47608be55a639099dcbc": {
          "model_module": "@jupyter-widgets/controls",
          "model_name": "SliderStyleModel",
          "model_module_version": "1.5.0",
          "state": {
            "_model_module": "@jupyter-widgets/controls",
            "_model_module_version": "1.5.0",
            "_model_name": "SliderStyleModel",
            "_view_count": null,
            "_view_module": "@jupyter-widgets/base",
            "_view_module_version": "1.2.0",
            "_view_name": "StyleView",
            "description_width": "",
            "handle_color": null
          }
        },
        "c96c92496b094627b06431da16083f88": {
          "model_module": "@jupyter-widgets/base",
          "model_name": "LayoutModel",
          "model_module_version": "1.2.0",
          "state": {
            "_model_module": "@jupyter-widgets/base",
            "_model_module_version": "1.2.0",
            "_model_name": "LayoutModel",
            "_view_count": null,
            "_view_module": "@jupyter-widgets/base",
            "_view_module_version": "1.2.0",
            "_view_name": "LayoutView",
            "align_content": null,
            "align_items": null,
            "align_self": null,
            "border": null,
            "bottom": null,
            "display": null,
            "flex": null,
            "flex_flow": null,
            "grid_area": null,
            "grid_auto_columns": null,
            "grid_auto_flow": null,
            "grid_auto_rows": null,
            "grid_column": null,
            "grid_gap": null,
            "grid_row": null,
            "grid_template_areas": null,
            "grid_template_columns": null,
            "grid_template_rows": null,
            "height": null,
            "justify_content": null,
            "justify_items": null,
            "left": null,
            "margin": null,
            "max_height": null,
            "max_width": null,
            "min_height": null,
            "min_width": null,
            "object_fit": null,
            "object_position": null,
            "order": null,
            "overflow": null,
            "overflow_x": null,
            "overflow_y": null,
            "padding": null,
            "right": null,
            "top": null,
            "visibility": null,
            "width": null
          }
        },
        "90a66a0ee2dd4f29b43bc89b3e37e454": {
          "model_module": "@jupyter-widgets/controls",
          "model_name": "SliderStyleModel",
          "model_module_version": "1.5.0",
          "state": {
            "_model_module": "@jupyter-widgets/controls",
            "_model_module_version": "1.5.0",
            "_model_name": "SliderStyleModel",
            "_view_count": null,
            "_view_module": "@jupyter-widgets/base",
            "_view_module_version": "1.2.0",
            "_view_name": "StyleView",
            "description_width": "",
            "handle_color": null
          }
        },
        "7150604ce0f944a5b35970bfe6eb2a57": {
          "model_module": "@jupyter-widgets/base",
          "model_name": "LayoutModel",
          "model_module_version": "1.2.0",
          "state": {
            "_model_module": "@jupyter-widgets/base",
            "_model_module_version": "1.2.0",
            "_model_name": "LayoutModel",
            "_view_count": null,
            "_view_module": "@jupyter-widgets/base",
            "_view_module_version": "1.2.0",
            "_view_name": "LayoutView",
            "align_content": null,
            "align_items": null,
            "align_self": null,
            "border": null,
            "bottom": null,
            "display": null,
            "flex": null,
            "flex_flow": null,
            "grid_area": null,
            "grid_auto_columns": null,
            "grid_auto_flow": null,
            "grid_auto_rows": null,
            "grid_column": null,
            "grid_gap": null,
            "grid_row": null,
            "grid_template_areas": null,
            "grid_template_columns": null,
            "grid_template_rows": null,
            "height": null,
            "justify_content": null,
            "justify_items": null,
            "left": null,
            "margin": null,
            "max_height": null,
            "max_width": null,
            "min_height": null,
            "min_width": null,
            "object_fit": null,
            "object_position": null,
            "order": null,
            "overflow": null,
            "overflow_x": null,
            "overflow_y": null,
            "padding": null,
            "right": null,
            "top": null,
            "visibility": null,
            "width": null
          }
        }
      }
    }
  },
  "nbformat": 4,
  "nbformat_minor": 0
}